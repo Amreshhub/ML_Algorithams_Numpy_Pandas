{
 "cells": [
  {
   "cell_type": "code",
   "execution_count": 6,
   "metadata": {},
   "outputs": [],
   "source": [
    "import numpy as np\n",
    "import matplotlib.pyplot as plt\n",
    "import sklearn "
   ]
  },
  {
   "cell_type": "code",
   "execution_count": 5,
   "metadata": {},
   "outputs": [
    {
     "data": {
      "text/plain": [
       "array([[-1.        ],\n",
       "       [-0.97979798],\n",
       "       [-0.95959596],\n",
       "       [-0.93939394],\n",
       "       [-0.91919192],\n",
       "       [-0.8989899 ],\n",
       "       [-0.87878788],\n",
       "       [-0.85858586],\n",
       "       [-0.83838384],\n",
       "       [-0.81818182],\n",
       "       [-0.7979798 ],\n",
       "       [-0.77777778],\n",
       "       [-0.75757576],\n",
       "       [-0.73737374],\n",
       "       [-0.71717172],\n",
       "       [-0.6969697 ],\n",
       "       [-0.67676768],\n",
       "       [-0.65656566],\n",
       "       [-0.63636364],\n",
       "       [-0.61616162],\n",
       "       [-0.5959596 ],\n",
       "       [-0.57575758],\n",
       "       [-0.55555556],\n",
       "       [-0.53535354],\n",
       "       [-0.51515152],\n",
       "       [-0.49494949],\n",
       "       [-0.47474747],\n",
       "       [-0.45454545],\n",
       "       [-0.43434343],\n",
       "       [-0.41414141],\n",
       "       [-0.39393939],\n",
       "       [-0.37373737],\n",
       "       [-0.35353535],\n",
       "       [-0.33333333],\n",
       "       [-0.31313131],\n",
       "       [-0.29292929],\n",
       "       [-0.27272727],\n",
       "       [-0.25252525],\n",
       "       [-0.23232323],\n",
       "       [-0.21212121],\n",
       "       [-0.19191919],\n",
       "       [-0.17171717],\n",
       "       [-0.15151515],\n",
       "       [-0.13131313],\n",
       "       [-0.11111111],\n",
       "       [-0.09090909],\n",
       "       [-0.07070707],\n",
       "       [-0.05050505],\n",
       "       [-0.03030303],\n",
       "       [-0.01010101],\n",
       "       [ 0.01010101],\n",
       "       [ 0.03030303],\n",
       "       [ 0.05050505],\n",
       "       [ 0.07070707],\n",
       "       [ 0.09090909],\n",
       "       [ 0.11111111],\n",
       "       [ 0.13131313],\n",
       "       [ 0.15151515],\n",
       "       [ 0.17171717],\n",
       "       [ 0.19191919],\n",
       "       [ 0.21212121],\n",
       "       [ 0.23232323],\n",
       "       [ 0.25252525],\n",
       "       [ 0.27272727],\n",
       "       [ 0.29292929],\n",
       "       [ 0.31313131],\n",
       "       [ 0.33333333],\n",
       "       [ 0.35353535],\n",
       "       [ 0.37373737],\n",
       "       [ 0.39393939],\n",
       "       [ 0.41414141],\n",
       "       [ 0.43434343],\n",
       "       [ 0.45454545],\n",
       "       [ 0.47474747],\n",
       "       [ 0.49494949],\n",
       "       [ 0.51515152],\n",
       "       [ 0.53535354],\n",
       "       [ 0.55555556],\n",
       "       [ 0.57575758],\n",
       "       [ 0.5959596 ],\n",
       "       [ 0.61616162],\n",
       "       [ 0.63636364],\n",
       "       [ 0.65656566],\n",
       "       [ 0.67676768],\n",
       "       [ 0.6969697 ],\n",
       "       [ 0.71717172],\n",
       "       [ 0.73737374],\n",
       "       [ 0.75757576],\n",
       "       [ 0.77777778],\n",
       "       [ 0.7979798 ],\n",
       "       [ 0.81818182],\n",
       "       [ 0.83838384],\n",
       "       [ 0.85858586],\n",
       "       [ 0.87878788],\n",
       "       [ 0.8989899 ],\n",
       "       [ 0.91919192],\n",
       "       [ 0.93939394],\n",
       "       [ 0.95959596],\n",
       "       [ 0.97979798],\n",
       "       [ 1.        ]])"
      ]
     },
     "execution_count": 5,
     "metadata": {},
     "output_type": "execute_result"
    }
   ],
   "source": [
    "np.random.seed(100)\n",
    "data_x = np.linspace(-10.0, 10.0, 100)[:,np.newaxis]\n",
    "#data_y = np.sin(data_x) + 0.1 * np.power(data_x, 2) + 0.5 * np.random.randn(100, 1)\n",
    "data_y = 29*data_x +20* np.random.randn(100,1)\n",
    "data_x /= np.max(data_x)\n",
    "data_x"
   ]
  },
  {
   "cell_type": "code",
   "execution_count": 3,
   "metadata": {},
   "outputs": [
    {
     "data": {
      "text/plain": [
       "array([[ 1.        , -1.        ],\n",
       "       [ 1.        , -0.97979798],\n",
       "       [ 1.        , -0.95959596],\n",
       "       [ 1.        , -0.93939394],\n",
       "       [ 1.        , -0.91919192],\n",
       "       [ 1.        , -0.8989899 ],\n",
       "       [ 1.        , -0.87878788],\n",
       "       [ 1.        , -0.85858586],\n",
       "       [ 1.        , -0.83838384],\n",
       "       [ 1.        , -0.81818182],\n",
       "       [ 1.        , -0.7979798 ],\n",
       "       [ 1.        , -0.77777778],\n",
       "       [ 1.        , -0.75757576],\n",
       "       [ 1.        , -0.73737374],\n",
       "       [ 1.        , -0.71717172],\n",
       "       [ 1.        , -0.6969697 ],\n",
       "       [ 1.        , -0.67676768],\n",
       "       [ 1.        , -0.65656566],\n",
       "       [ 1.        , -0.63636364],\n",
       "       [ 1.        , -0.61616162],\n",
       "       [ 1.        , -0.5959596 ],\n",
       "       [ 1.        , -0.57575758],\n",
       "       [ 1.        , -0.55555556],\n",
       "       [ 1.        , -0.53535354],\n",
       "       [ 1.        , -0.51515152],\n",
       "       [ 1.        , -0.49494949],\n",
       "       [ 1.        , -0.47474747],\n",
       "       [ 1.        , -0.45454545],\n",
       "       [ 1.        , -0.43434343],\n",
       "       [ 1.        , -0.41414141],\n",
       "       [ 1.        , -0.39393939],\n",
       "       [ 1.        , -0.37373737],\n",
       "       [ 1.        , -0.35353535],\n",
       "       [ 1.        , -0.33333333],\n",
       "       [ 1.        , -0.31313131],\n",
       "       [ 1.        , -0.29292929],\n",
       "       [ 1.        , -0.27272727],\n",
       "       [ 1.        , -0.25252525],\n",
       "       [ 1.        , -0.23232323],\n",
       "       [ 1.        , -0.21212121],\n",
       "       [ 1.        , -0.19191919],\n",
       "       [ 1.        , -0.17171717],\n",
       "       [ 1.        , -0.15151515],\n",
       "       [ 1.        , -0.13131313],\n",
       "       [ 1.        , -0.11111111],\n",
       "       [ 1.        , -0.09090909],\n",
       "       [ 1.        , -0.07070707],\n",
       "       [ 1.        , -0.05050505],\n",
       "       [ 1.        , -0.03030303],\n",
       "       [ 1.        , -0.01010101],\n",
       "       [ 1.        ,  0.01010101],\n",
       "       [ 1.        ,  0.03030303],\n",
       "       [ 1.        ,  0.05050505],\n",
       "       [ 1.        ,  0.07070707],\n",
       "       [ 1.        ,  0.09090909],\n",
       "       [ 1.        ,  0.11111111],\n",
       "       [ 1.        ,  0.13131313],\n",
       "       [ 1.        ,  0.15151515],\n",
       "       [ 1.        ,  0.17171717],\n",
       "       [ 1.        ,  0.19191919],\n",
       "       [ 1.        ,  0.21212121],\n",
       "       [ 1.        ,  0.23232323],\n",
       "       [ 1.        ,  0.25252525],\n",
       "       [ 1.        ,  0.27272727],\n",
       "       [ 1.        ,  0.29292929],\n",
       "       [ 1.        ,  0.31313131],\n",
       "       [ 1.        ,  0.33333333],\n",
       "       [ 1.        ,  0.35353535],\n",
       "       [ 1.        ,  0.37373737],\n",
       "       [ 1.        ,  0.39393939],\n",
       "       [ 1.        ,  0.41414141],\n",
       "       [ 1.        ,  0.43434343],\n",
       "       [ 1.        ,  0.45454545],\n",
       "       [ 1.        ,  0.47474747],\n",
       "       [ 1.        ,  0.49494949],\n",
       "       [ 1.        ,  0.51515152],\n",
       "       [ 1.        ,  0.53535354],\n",
       "       [ 1.        ,  0.55555556],\n",
       "       [ 1.        ,  0.57575758],\n",
       "       [ 1.        ,  0.5959596 ],\n",
       "       [ 1.        ,  0.61616162],\n",
       "       [ 1.        ,  0.63636364],\n",
       "       [ 1.        ,  0.65656566],\n",
       "       [ 1.        ,  0.67676768],\n",
       "       [ 1.        ,  0.6969697 ],\n",
       "       [ 1.        ,  0.71717172],\n",
       "       [ 1.        ,  0.73737374],\n",
       "       [ 1.        ,  0.75757576],\n",
       "       [ 1.        ,  0.77777778],\n",
       "       [ 1.        ,  0.7979798 ],\n",
       "       [ 1.        ,  0.81818182],\n",
       "       [ 1.        ,  0.83838384],\n",
       "       [ 1.        ,  0.85858586],\n",
       "       [ 1.        ,  0.87878788],\n",
       "       [ 1.        ,  0.8989899 ],\n",
       "       [ 1.        ,  0.91919192],\n",
       "       [ 1.        ,  0.93939394],\n",
       "       [ 1.        ,  0.95959596],\n",
       "       [ 1.        ,  0.97979798],\n",
       "       [ 1.        ,  1.        ]])"
      ]
     },
     "execution_count": 3,
     "metadata": {},
     "output_type": "execute_result"
    }
   ],
   "source": [
    "data_x = np.hstack((np.ones_like(data_x),data_x))\n",
    "data_x"
   ]
  },
  {
   "cell_type": "code",
   "execution_count": 8,
   "metadata": {},
   "outputs": [
    {
     "name": "stdout",
     "output_type": "stream",
     "text": [
      "40 160 20 80\n",
      "[[ 1.          0.53535354]\n",
      " [ 1.         -0.39393939]\n",
      " [ 1.          0.03030303]\n",
      " [ 1.         -0.53535354]\n",
      " [ 1.         -0.57575758]\n",
      " [ 1.          0.75757576]\n",
      " [ 1.          0.63636364]\n",
      " [ 1.          0.17171717]\n",
      " [ 1.         -0.19191919]\n",
      " [ 1.          0.35353535]\n",
      " [ 1.         -0.71717172]\n",
      " [ 1.          0.5959596 ]\n",
      " [ 1.          0.45454545]\n",
      " [ 1.          0.93939394]\n",
      " [ 1.          0.81818182]\n",
      " [ 1.          0.39393939]\n",
      " [ 1.         -0.93939394]\n",
      " [ 1.          0.65656566]\n",
      " [ 1.          0.49494949]\n",
      " [ 1.         -1.        ]]\n"
     ]
    }
   ],
   "source": [
    "order = np.random.permutation(len(data_x))\n",
    "portion = 20\n",
    "test_x = data_x[order[:portion]]\n",
    "test_y = data_y[order[:portion]]\n",
    "train_x = data_x[order[portion:]]\n",
    "train_y = data_y[order[portion:]]\n",
    "print(test_x.size, train_x.size, test_y.size, train_y.size)\n",
    "print(test_x)"
   ]
  },
  {
   "cell_type": "code",
   "execution_count": 11,
   "metadata": {},
   "outputs": [
    {
     "data": {
      "image/png": "[encoded data removed]",
      "text/plain": [
       "<Figure size 432x288 with 1 Axes>"
      ]
     },
     "metadata": {
      "needs_background": "light"
     },
     "output_type": "display_data"
    }
   ],
   "source": [
    "plt.scatter(train_x[:,1],train_y, c='b', label='Data')\n",
    "plt.show()"
   ]
  },
  {
   "cell_type": "code",
   "execution_count": 12,
   "metadata": {},
   "outputs": [],
   "source": [
    "def get_gradient(w, x, y):\n",
    "    y_estimate =(x).dot(w).flatten()\n",
    "    error = (y.flatten()- y_estimate)\n",
    "    mse = (1.0/len(x))*np.sum(np.power(error, 2))\n",
    "    gradient = -(1.0/len(x)) * error.dot(x)\n",
    "    return gradient, mse"
   ]
  },
  {
   "cell_type": "code",
   "execution_count": 13,
   "metadata": {},
   "outputs": [
    {
     "name": "stdout",
     "output_type": "stream",
     "text": [
      "Intial values of Weights:\n",
      "1.2190846332783454 1.1587837780089076\n",
      "Iteration: 10 - Error: 6473.0773\n",
      "Updated Weights : 159.213077 , -1.411998\n",
      "Iteration: 20 - Error: 1527.4078\n",
      "Updated Weights : 237.148674 , 1.441671\n",
      "Iteration: 30 - Error: 638.8468\n",
      "Updated Weights : 270.172389 , 2.928060\n",
      "Iteration: 40 - Error: 479.1842\n",
      "Updated Weights : 284.170265 , 3.573642\n",
      "Iteration: 50 - Error: 450.4949\n",
      "Updated Weights : 290.103858 , 3.848170\n",
      "Iteration: 60 - Error: 445.3398\n",
      "Updated Weights : 292.619076 , 3.964590\n",
      "Iteration: 70 - Error: 444.4135\n",
      "Updated Weights : 293.685265 , 4.013943\n",
      "Iteration: 80 - Error: 444.2470\n",
      "Updated Weights : 294.137218 , 4.034863\n",
      "Iteration: 90 - Error: 444.2171\n",
      "Updated Weights : 294.328798 , 4.043731\n",
      "Iteration: 100 - Error: 444.2118\n",
      "Updated Weights : 294.410008 , 4.047491\n",
      "Iteration: 110 - Error: 444.2108\n",
      "Updated Weights : 294.444433 , 4.049084\n",
      "Converged\n",
      "Final Weights : 294.459025 , 4.049759\n",
      "Test Cost = 545.4689570795571\n"
     ]
    }
   ],
   "source": [
    "w = np.random.randn(2)\n",
    "alpha = 0.25\n",
    "tolerance = 1e-3\n",
    "print(\"Intial values of Weights:\")\n",
    "print(w[1], w[0])\n",
    "# Perform Gradient Descent\n",
    "iterations = 1\n",
    "while True:\n",
    "    gradient, error = get_gradient(w, train_x, train_y)\n",
    "    new_w = w - alpha * gradient\n",
    "#     print(gradient)\n",
    "    \n",
    "    # Stopping Condition\n",
    "    if np.sum(abs(new_w - w)) < tolerance:\n",
    "        print (\"Converged\")\n",
    "        break\n",
    "    \n",
    "    # Print error every 10 iterations\n",
    "    if iterations % 10 == 0:\n",
    "        print (\"Iteration: %d - Error: %.4f\" %(iterations, error))\n",
    "        print (\"Updated Weights : {:f} , {:f}\".format(w[1], w[0]))\n",
    "    iterations += 1\n",
    "    w = new_w\n",
    "\n",
    "print (\"Final Weights : {:f} , {:f}\".format(w[1], w[0]))\n",
    "print (\"Test Cost =\", get_gradient(w, test_x, test_y)[1])"
   ]
  },
  {
   "cell_type": "code",
   "execution_count": 14,
   "metadata": {},
   "outputs": [
    {
     "name": "stdout",
     "output_type": "stream",
     "text": [
      "Final eqn / hypothesis looks like:\n",
      "y = 294.459025.x + 4.049759\n"
     ]
    }
   ],
   "source": [
    "print(\"Final eqn / hypothesis looks like:\")\n",
    "print('y = {:f}.x + {:f}'.format(w[1], w[0]))"
   ]
  },
  {
   "cell_type": "code",
   "execution_count": 15,
   "metadata": {},
   "outputs": [
    {
     "data": {
      "image/png": "[encoded data removed]",
      "text/plain": [
       "<Figure size 432x288 with 1 Axes>"
      ]
     },
     "metadata": {
      "needs_background": "light"
     },
     "output_type": "display_data"
    }
   ],
   "source": [
    "plt.plot(data_x[:,1], (data_x).dot(w), c='g', label='Model')\n",
    "plt.scatter(train_x[:,1], train_y, c='b', label='Train Set')\n",
    "plt.scatter(test_x[:,1], test_y, c='r', label='Test Set')\n",
    "plt.grid()\n",
    "plt.legend(loc='best')\n",
    "plt.xlabel('X')\n",
    "plt.ylabel('Y')\n",
    "plt.show()"
   ]
  },
  {
   "cell_type": "code",
   "execution_count": null,
   "metadata": {},
   "outputs": [],
   "source": []
  }
 ],
 "metadata": {
  "kernelspec": {
   "display_name": "Python 3",
   "language": "python",
   "name": "python3"
  },
  "language_info": {
   "codemirror_mode": {
    "name": "ipython",
    "version": 3
   },
   "file_extension": ".py",
   "mimetype": "text/x-python",
   "name": "python",
   "nbconvert_exporter": "python",
   "pygments_lexer": "ipython3",
   "version": "3.7.3"
  }
 },
 "nbformat": 4,
 "nbformat_minor": 2
}
