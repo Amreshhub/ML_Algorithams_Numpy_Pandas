{
 "cells": [
  {
   "cell_type": "markdown",
   "metadata": {
    "colab_type": "text",
    "id": "Kfq17fdACH_O"
   },
   "source": [
    "## Naive Bayes Classifier\n",
    "\n",
    "Suppose you are a product manager, you want to classify customer reviews in positive and negative classes. Or As a loan manager, you want to identify which loan applicants are safe or risky? As a healthcare analyst, you want to predict which patients can suffer from diabetes disease. All the examples have the same kind of problem to classify reviews, loan applicants, and patients.\n",
    "\n",
    "Naive Bayes is the most straightforward and fast classification algorithm, which is suitable for a large chunk of data. Naive Bayes classifier is successfully used in various applications such as spam filtering, text classification, sentiment analysis, and recommender systems. It uses Bayes theorem of probability for prediction of unknown class.\n",
    "\n",
    "Naive Bayes models are a group of extremely fast and simple classification algorithms that are often suitable for very high-dimensional datasets. Because they are so fast and have so few tunable parameters, they end up being very useful as a quick-and-dirty baseline for a classification problem.\n",
    "\n",
    "Naive Bayes classifiers are built on Bayesian classification methods. These rely on Bayes's theorem, which is an equation describing the relationship of conditional probabilities of statistical quantities. In Bayesian classification, we're interested in finding the probability of a label given some observed features, which we can write as P(L | features). Bayes's theorem tells us how to express this in terms of quantities we can compute more directly.\n",
    "\n"
   ]
  },
  {
   "cell_type": "markdown",
   "metadata": {
    "colab_type": "text",
    "id": "nZkASS4YCeo4"
   },
   "source": [
    "![alt text](https://res.cloudinary.com/dyd911kmh/image/upload/f_auto,q_auto:best/v1543836882/image_3_ijznzs.png)\n",
    "\n",
    "\n",
    "**Naive Bayes Theorem**\n",
    "\n",
    "\n",
    "**P(h)**: the probability of hypothesis h being true (regardless of the data). This is known as the prior probability of h.\n",
    "\n",
    "**P(D**): the probability of the data (regardless of the hypothesis). This is known as the prior probability.\n",
    "\n",
    "**P(h|D)**: the probability of hypothesis h given the data D. This is known as posterior probability.\n",
    "\n",
    "**P(D|h)**: the probability of data d given that the hypothesis h was true. This is known as likelihood probability.\n",
    "\n",
    "\n",
    "\n",
    "Such a model is called a generative model because it specifies the hypothetical random process that generates the data. Specifying this generative model for each label is the main piece of the training of such a Bayesian classifier. The general version of such a training step is a very difficult task, but we can make it simpler through the use of some simplifying assumptions about the form of this model.\n",
    "\n",
    "This is where the \"naive\" in \"naive Bayes\" comes in: if we make very naive assumptions about the generative model for each label, we can find a rough approximation of the generative model for each class, and then proceed with the Bayesian classification. Different types of naive Bayes classifiers rest on different naive assumptions about the data, and we will examine a few of these in the following sections."
   ]
  },
  {
   "cell_type": "markdown",
   "metadata": {
    "colab_type": "text",
    "id": "EDRgxvQKEZx8"
   },
   "source": [
    "### How Naive Bayes classifier works?\n",
    "\n",
    "Given an example of weather conditions and playing sports. You need to calculate the probability of playing sports. Now, you need to classify whether players will play or not, based on the weather condition.\n",
    "\n",
    "First Approach (In case of a single feature)\n",
    "Naive Bayes classifier calculates the probability of an event in the following steps:\n",
    "\n",
    "Step 1: Calculate the prior probability for given class labels\n",
    "\n",
    "Step 2: Find Likelihood probability with each attribute for each class\n",
    "\n",
    "Step 3: Put these value in Bayes Formula and calculate posterior probability.\n",
    "\n",
    "Step 4: See which class has a higher probability, given the input belongs to the higher probability class.\n",
    "\n",
    "For simplifying prior and posterior probability calculation you can use the two tables frequency and likelihood tables. Both of these tables will help you to calculate the prior and posterior probability. The Frequency table contains the occurrence of labels for all features. There are two likelihood tables.\n",
    "\n",
    "\n",
    "![alt text](https://res.cloudinary.com/dyd911kmh/image/upload/f_auto,q_auto:best/v1543836883/image_4_lyi0ob.png)\n",
    "\n",
    "\n",
    "Probability of playing:\n",
    "\n",
    "P(Yes | Overcast) = P(Overcast | Yes) P(Yes) / P (Overcast) .....................(1)\n",
    "\n",
    "Calculate Prior Probabilities:\n",
    "\n",
    "P(Overcast) = 4/14 = 0.29\n",
    "\n",
    "P(Yes)= 9/14 = 0.64\n",
    "\n",
    "Calculate Posterior Probabilities:\n",
    "\n",
    "P(Overcast |Yes) = 4/9 = 0.44\n",
    "\n",
    "Put Prior and Posterior probabilities in equation (1)\n",
    "\n",
    "P (Yes | Overcast) = 0.44 * 0.64 / 0.29 = 0.98(Higher)\n",
    "\n",
    "Similarly, you can calculate the probability of not playing:\n",
    "\n",
    "Probability of not playing:\n",
    "\n",
    "P(No | Overcast) = P(Overcast | No) P(No) / P (Overcast) .....................(2)\n",
    "\n",
    "Calculate Prior Probabilities:\n",
    "\n",
    "P(Overcast) = 4/14 = 0.29\n",
    "\n",
    "P(No)= 5/14 = 0.36\n",
    "\n",
    "Calculate Posterior Probabilities:\n",
    "\n",
    "P(Overcast |No) = 0/9 = 0\n",
    "\n",
    "Put Prior and Posterior probabilities in equation (2)\n",
    "\n",
    "P (No | Overcast) = 0 * 0.36 / 0.29 = 0\n",
    "\n",
    "The probability of a 'Yes' class is higher. So you can determine here if the weather is overcast than players will play the sport."
   ]
  },
  {
   "cell_type": "markdown",
   "metadata": {
    "colab_type": "text",
    "id": "yirmFMJwEzQX"
   },
   "source": [
    "**Second Approach (In case of multiple features)**\n",
    "\n",
    "![alt text](https://res.cloudinary.com/dyd911kmh/image/upload/f_auto,q_auto:best/v1543836884/image_5_uhsgzr.png)\n",
    "\n",
    "\n",
    "Now suppose you want to calculate the probability of playing when the weather is overcast, and the temperature is mild.\n",
    "\n",
    "Probability of playing:\n",
    "\n",
    "P(Play= Yes | Weather=Overcast, Temp=Mild) = P(Weather=Overcast, Temp=Mild | Play= Yes)P(Play=Yes) ..........(1)\n",
    "\n",
    "P(Weather=Overcast, Temp=Mild | Play= Yes)= P(Overcast |Yes) P(Mild |Yes) ………..(2)\n",
    "\n",
    "Calculate Prior Probabilities: P(Yes)= 9/14 = 0.64\n",
    "\n",
    "Calculate Posterior Probabilities: P(Overcast |Yes) = 4/9 = 0.44 P(Mild |Yes) = 4/9 = 0.44\n",
    "\n",
    "Put Posterior probabilities in equation (2) P(Weather=Overcast, Temp=Mild | Play= Yes) = 0.44 * 0.44 = 0.1936(Higher)\n",
    "\n",
    "Put Prior and Posterior probabilities in equation (1) P(Play= Yes | Weather=Overcast, Temp=Mild) = 0.1936*0.64 = 0.124\n",
    "\n",
    "Similarly, you can calculate the probability of not playing:\n",
    "\n",
    "Probability of not playing:\n",
    "\n",
    "P(Play= No | Weather=Overcast, Temp=Mild) = P(Weather=Overcast, Temp=Mild | Play= No)P(Play=No) ..........(3)\n",
    "\n",
    "P(Weather=Overcast, Temp=Mild | Play= No)= P(Weather=Overcast |Play=No) P(Temp=Mild | Play=No) ………..(4)\n",
    "\n",
    "Calculate Prior Probabilities: P(No)= 5/14 = 0.36\n",
    "\n",
    "Calculate Posterior Probabilities: P(Weather=Overcast |Play=No) = 0/9 = 0 P(Temp=Mild | Play=No)=2/5=0.4\n",
    "\n",
    "Put posterior probabilities in equation (4) P(Weather=Overcast, Temp=Mild | Play= No) = 0 * 0.4= 0\n",
    "\n",
    "Put prior and posterior probabilities in equation (3) P(Play= No | Weather=Overcast, Temp=Mild) = 0*0.36=0\n",
    "\n",
    "The probability of a 'Yes' class is higher. So you can say here that if the weather is overcast than players will play the sport."
   ]
  },
  {
   "cell_type": "code",
   "execution_count": 0,
   "metadata": {
    "colab": {},
    "colab_type": "code",
    "id": "wURT60w7CFLP"
   },
   "outputs": [],
   "source": [
    "%matplotlib inline\n",
    "import numpy as np\n",
    "import matplotlib.pyplot as plt\n",
    "import seaborn as sns; sns.set()"
   ]
  },
  {
   "cell_type": "code",
   "execution_count": 0,
   "metadata": {
    "colab": {
     "base_uri": "https://localhost:8080/",
     "height": 285
    },
    "colab_type": "code",
    "id": "t6-MKGlxCscl",
    "outputId": "4a78fcf1-0a96-4882-89bc-70a6f8bd3a6b"
   },
   "outputs": [
    {
     "data": {
      "text/plain": [
       "<matplotlib.collections.PathCollection at 0x7ff87e0eeef0>"
      ]
     },
     "execution_count": 2,
     "metadata": {
      "tags": []
     },
     "output_type": "execute_result"
    },
    {
     "data": {
      "image/png": "[encoded data removed]",
      "text/plain": [
       "<Figure size 432x288 with 1 Axes>"
      ]
     },
     "metadata": {
      "tags": []
     },
     "output_type": "display_data"
    }
   ],
   "source": [
    "from sklearn.datasets import make_blobs\n",
    "X, y = make_blobs(100, 2, centers=4, random_state=2, cluster_std=.5)\n",
    "plt.scatter(X[:, 0], X[:, 1], c=y, s=50, cmap='winter')"
   ]
  },
  {
   "cell_type": "markdown",
   "metadata": {
    "colab_type": "text",
    "id": "x6thqcPRCz0B"
   },
   "source": [
    "**Gaussian Naive Bayes**\n",
    "\n",
    "Perhaps the easiest naive Bayes classifier to understand is Gaussian naive Bayes. In this classifier, the assumption is that data from each label is drawn from a simple Gaussian distribution."
   ]
  },
  {
   "cell_type": "markdown",
   "metadata": {
    "colab_type": "text",
    "id": "YvbPE4kiC_HN"
   },
   "source": [
    "One extremely fast way to create a simple model is to assume that the data is described by a Gaussian distribution with no covariance between dimensions. This model can be fit by simply finding the mean and standard deviation of the points within each label, which is all you need to define such a distribution.\n",
    "\n",
    "![alt text](https://jakevdp.github.io/PythonDataScienceHandbook/figures/05.05-gaussian-NB.png)\n",
    "\n"
   ]
  },
  {
   "cell_type": "markdown",
   "metadata": {
    "colab_type": "text",
    "id": "3QQsgU8yDMxW"
   },
   "source": [
    "The ellipses here represent the Gaussian generative model for each label, with larger probability toward the center of the ellipses. With this generative model in place for each class, we have a simple recipe to compute the likelihood P(features | L1) for any data point, and thus we can quickly compute the posterior ratio and determine which label is the most probable for a given point."
   ]
  },
  {
   "cell_type": "code",
   "execution_count": 0,
   "metadata": {
    "colab": {
     "base_uri": "https://localhost:8080/",
     "height": 34
    },
    "colab_type": "code",
    "id": "OrwSPBCaDQ3Y",
    "outputId": "ae314cf5-0da6-4afc-d749-ddf4472f96d0"
   },
   "outputs": [
    {
     "data": {
      "text/plain": [
       "GaussianNB(priors=None, var_smoothing=1e-09)"
      ]
     },
     "execution_count": 3,
     "metadata": {
      "tags": []
     },
     "output_type": "execute_result"
    }
   ],
   "source": [
    "from sklearn.naive_bayes import GaussianNB\n",
    "model = GaussianNB()\n",
    "model.fit(X, y)"
   ]
  },
  {
   "cell_type": "code",
   "execution_count": 0,
   "metadata": {
    "colab": {},
    "colab_type": "code",
    "id": "rRY8bftWDUX0"
   },
   "outputs": [],
   "source": [
    "rng = np.random.RandomState(0)\n",
    "Xnew = [-6, -14] + [14, 18] * rng.rand(2000, 2)\n",
    "ynew = model.predict(Xnew)"
   ]
  },
  {
   "cell_type": "code",
   "execution_count": 0,
   "metadata": {
    "colab": {
     "base_uri": "https://localhost:8080/",
     "height": 285
    },
    "colab_type": "code",
    "id": "aufXhlYdFzZT",
    "outputId": "9f9fdc9e-a5b5-448b-b1d2-01d8ca7b77e4"
   },
   "outputs": [
    {
     "data": {
      "text/plain": [
       "(-7.072556915551396, 2.349763340486446, -10.761314259502623, 3.973690400670941)"
      ]
     },
     "execution_count": 5,
     "metadata": {
      "tags": []
     },
     "output_type": "execute_result"
    },
    {
     "data": {
      "image/png": "[encoded data removed]",
      "text/plain": [
       "<Figure size 432x288 with 1 Axes>"
      ]
     },
     "metadata": {
      "tags": []
     },
     "output_type": "display_data"
    }
   ],
   "source": [
    "plt.scatter(X[:, 0], X[:, 1], c=y, s=50, cmap='RdBu')\n",
    "lim = plt.axis()\n",
    "plt.scatter(Xnew[:, 0], Xnew[:, 1], c=ynew, s=20, cmap='RdBu', alpha=0.1)\n",
    "plt.axis(lim)"
   ]
  },
  {
   "cell_type": "markdown",
   "metadata": {
    "colab_type": "text",
    "id": "CE8WJMPdLxp8"
   },
   "source": [
    "**Multinomial Naive Bayes**\n",
    "\n",
    "The Gaussian assumption just described is by no means the only simple assumption that could be used to specify the generative distribution for each label. Another useful example is multinomial naive Bayes, where the features are assumed to be generated from a simple multinomial distribution. The multinomial distribution describes the probability of observing counts among a number of categories, and thus multinomial naive Bayes is most appropriate for features that represent counts or count rates.\n",
    "\n",
    "The idea is precisely the same as before, except that instead of modeling the data distribution with the best-fit Gaussian, we model the data distribuiton with a best-fit multinomial distribution."
   ]
  },
  {
   "cell_type": "markdown",
   "metadata": {
    "colab_type": "text",
    "id": "IeYmhNYPL7MK"
   },
   "source": [
    "One place where multinomial naive Bayes is often used is in text classification, where the features are related to word counts or frequencies within the documents to be classified. We discussed the extraction of such features from text in Feature Engineering; here we will use the sparse word count features from the 20 Newsgroups corpus to show how we might classify these short documents into categories."
   ]
  },
  {
   "cell_type": "code",
   "execution_count": 0,
   "metadata": {
    "colab": {
     "base_uri": "https://localhost:8080/",
     "height": 394
    },
    "colab_type": "code",
    "id": "7ePu9SSmL4ND",
    "outputId": "d78bf43b-ca6a-45a6-caa2-3c1cc6753273"
   },
   "outputs": [
    {
     "name": "stderr",
     "output_type": "stream",
     "text": [
      "Downloading 20news dataset. This may take a few minutes.\n",
      "Downloading dataset from https://ndownloader.figshare.com/files/5975967 (14 MB)\n"
     ]
    },
    {
     "data": {
      "text/plain": [
       "['alt.atheism',\n",
       " 'comp.graphics',\n",
       " 'comp.os.ms-windows.misc',\n",
       " 'comp.sys.ibm.pc.hardware',\n",
       " 'comp.sys.mac.hardware',\n",
       " 'comp.windows.x',\n",
       " 'misc.forsale',\n",
       " 'rec.autos',\n",
       " 'rec.motorcycles',\n",
       " 'rec.sport.baseball',\n",
       " 'rec.sport.hockey',\n",
       " 'sci.crypt',\n",
       " 'sci.electronics',\n",
       " 'sci.med',\n",
       " 'sci.space',\n",
       " 'soc.religion.christian',\n",
       " 'talk.politics.guns',\n",
       " 'talk.politics.mideast',\n",
       " 'talk.politics.misc',\n",
       " 'talk.religion.misc']"
      ]
     },
     "execution_count": 6,
     "metadata": {
      "tags": []
     },
     "output_type": "execute_result"
    }
   ],
   "source": [
    "from sklearn.datasets import fetch_20newsgroups\n",
    "\n",
    "data = fetch_20newsgroups()\n",
    "data.target_names"
   ]
  },
  {
   "cell_type": "code",
   "execution_count": 0,
   "metadata": {
    "colab": {},
    "colab_type": "code",
    "id": "bcFFkcrbME0u"
   },
   "outputs": [],
   "source": [
    "categories = ['soc.religion.christian', 'rec.motorcycles',\n",
    "              'sci.space', 'comp.graphics','rec.sport.baseball']\n",
    "train = fetch_20newsgroups(subset='train', categories=categories)\n",
    "test = fetch_20newsgroups(subset='test', categories=categories)"
   ]
  },
  {
   "cell_type": "code",
   "execution_count": 0,
   "metadata": {
    "colab": {
     "base_uri": "https://localhost:8080/",
     "height": 1000
    },
    "colab_type": "code",
    "id": "fDN5AuNMMGtj",
    "outputId": "6a83d682-2573-4f34-a3b8-cfc54fb91c33"
   },
   "outputs": [
    {
     "name": "stdout",
     "output_type": "stream",
     "text": [
      "From: tiang@midway.ecn.uoknor.edu (Tiang)\n",
      "Subject: Re: A Book I found... graphics\n",
      "Nntp-Posting-Host: midway.ecn.uoknor.edu\n",
      "Organization: Engineering Computer Network, University of Oklahoma, Norman, OK, USA\n",
      "Lines: 35\n",
      "\n",
      "covlir@crockett1c.its.rpi.edu (Locks) writes:\n",
      "Hello,\n",
      "\n",
      ">I happened to spot an excellent book in a bookstore about 4 days ago,\n",
      ">though!!!!!!  It is in C++ and assembly.  It teaches you the assembly\n",
      ">as it goes along --so if you're like me and have no assembler experience,\n",
      ">don't worry.  It has almost everything that I wanted to know and has\n",
      ">-----WORKING----- code.\n",
      "\n",
      ">--Rod Covlin--\n",
      "\n",
      "\tI just bought a copy.  I can't disagree that it is a very good\n",
      "book.  But unfortunately I was looking for the same graphics feature\n",
      "described in this book but _NOT_ in 640x480x16 or 320x200x256 mode. It\n",
      "is easy to accomodate all the pixel \"descriptor\" (or color attributes)\n",
      "in those modes into A0000-AFFFFF, but not in 640x480x256(which is what\n",
      "I am interested in).  I haven't finish the book but I affraid the\n",
      "author didn't talk much about this mode(or other SVGA modes).  If\n",
      "anyone out there know any good book dealing with fast SVGA graphics\n",
      "manupulation(scrolling, repainting, all other good stuff..) please\n",
      "send me mail.  Programming guide to SVGA card is also welcome.\n",
      "\n",
      "\tThanks in advance.\n",
      "\n",
      "\n",
      " \n",
      "************************************************************************\n",
      "*                         Tiang   T.    Foo                            *\n",
      "*\t\t      tiang@uokmax.ecn.uoknor.edu \t\t       *\n",
      "************************************************************************    \n",
      "-- \n",
      "************************************************************************\n",
      "*                         Tiang   T.    Foo                            *\n",
      "*\t\t      tiang@uokmax.ecn.uoknor.edu \t\t       *\n",
      "************************************************************************    \n",
      "\n",
      "From: bowmanj@csn.org (Jerry Bowman)\n",
      "Subject: Re: Women's Jackets? (was Ed must be a Daemon Child!!)\n",
      "Nntp-Posting-Host: fred.colorado.edu\n",
      "Organization: University of Colorado Boulder, OCS\n",
      "Distribution: usa\n",
      "Lines: 48\n",
      "\n",
      "In article <bethdC5Juzw.18F@netcom.com> bethd@netcom.com (Beth Dixon) writes:\n",
      ">In article <1993Apr14.141637.20071@mnemosyne.cs.du.edu> jhensley@nyx.cs.du.edu (John Hensley) writes:\n",
      ">>Beth Dixon (bethd@netcom.com) wrote:\n",
      ">>: new Duc 750SS doesn't, so I'll have to go back to carrying my lipstick\n",
      ">>: in my jacket pocket.  Life is _so_ hard.  :-)\n",
      ">>\n",
      ">>My wife is looking for a jacket, and most of the men's styles she's tried\n",
      ">>don't fit too well. If they fit the shoulders and arms, they're too\n",
      ">>tight across the chest, or something like that. Anyone have any \n",
      ">>suggestions? I'm assuming that the V-Pilot, in addition to its handy\n",
      ">>storage facilities, is a pretty decent fit. Is there any company that\n",
      ">>makes a reasonable line of women's motorcycling stuff? More importantly,\n",
      ">>does anyone in Boulder or Denver know of a shop that bothers carrying any?\n",
      ">\n",
      ">I was very lucky I found a jacket I liked that actually _fits_.\n",
      ">HG makes the v-pilot jackets, mine is a very similar style made\n",
      ">by Just Leather in San Jose. I bought one of the last two they\n",
      ">ever made.\n",
      ">\n",
      ">Finding decent womens motorcycling gear is not easy.  There is a lot\n",
      ">of stuff out there that's fringed everywhere, made of fashion leather,\n",
      ">made to fit men, etc.  I don't know of a shop in your area.  There\n",
      ">are some women rider friendly places in the San Francisco/San Jose\n",
      ">area, but I don't recommend buying clothing mail order.  Too hard\n",
      ">to tell if it'll fit.  Bates custom makes leathers.  You might want\n",
      ">to call them (they're in L.A.) and get a cost estimate for the type\n",
      ">of jacket your wife is interested in.  Large manufacturers like\n",
      ">BMW and H.G. sell women's lines of clothing of decent quality, but\n",
      ">fit is iffy.\n",
      ">\n",
      ">A while ago, Noemi and Lisa Sieverts were talking about starting\n",
      ">a business doing just this sort of thing.  Don't know what they\n",
      ">finally decided.\n",
      ">\n",
      ">Beth\n",
      "        Seems to me that Johns H.D. in Ft Collins used to carry some\n",
      "    honest to god womens garb.>\n",
      ">=================================================================\n",
      ">Beth [The One True Beth] Dixon                   bethd@netcom.com\n",
      ">1981 Yamaha SR250 \"Excitable Girl\"                      DoD #0384\n",
      ">1979 Yamaha SR500 \"Spike the Garage Rat\"             FSSNOC #1843\n",
      ">1992 Ducati 750SS                                     AMA #631903\n",
      ">1963 Ducati 250 Monza -- restoration project         1KQSPT = 1.8\n",
      ">\"I can keep a handle on anything just this side of deranged.\"\n",
      ">                                                        -- ZZ Top\n",
      ">=================================================================\n",
      "\n",
      "\n",
      "\n"
     ]
    }
   ],
   "source": [
    "print(train.data[9])\n",
    "print(train.data[4])"
   ]
  },
  {
   "cell_type": "code",
   "execution_count": 0,
   "metadata": {
    "colab": {
     "base_uri": "https://localhost:8080/",
     "height": 600
    },
    "colab_type": "code",
    "id": "EAQVpS47YGgK",
    "outputId": "0f9c676a-f141-4bed-990a-7d27eef4a270"
   },
   "outputs": [
    {
     "name": "stdout",
     "output_type": "stream",
     "text": [
      "From: David.Anderman@ofa123.fidonet.org\n",
      "Subject: LRDPA news\n",
      "X-Sender: newtout 0.08 Feb 23 1993\n",
      "Lines: 28\n",
      "\n",
      "        Many of you at this point have seen a copy of the \n",
      "Lunar Resources Data Purchase Act by now. This bill, also known as the Back to \n",
      "the Moon bill, would authorize the U.S. \n",
      "government to purchase lunar science data from private \n",
      "and non-profit vendors, selected on the basis of competitive bidding, with an \n",
      "aggregate cap on bid awards of $65 million. \n",
      "        If you have a copy of the bill, and can't or don't want to go through \n",
      "all of the legalese contained in all Federal legislation,don't both - you have \n",
      "a free resource to evaluate the bill for you. Your local congressional office, \n",
      "listed in the phone book,is staffed by people who can forward a copy of the\n",
      "bill to legal experts. Simply ask them to do so, and to consider supporting\n",
      "the Lunar Resources Data Purchase Act. \n",
      "        If you do get feedback, negative or positive, from your congressional \n",
      "office, please forward it to: David Anderman\n",
      "3136 E. Yorba Linda Blvd., Apt G-14, Fullerton, CA 92631,\n",
      "or via E-Mail to: David.Anderman@ofa123.fidonet.org. \n",
      "        Another resource is your local chapter of the National Space Society. \n",
      "Members of the chapter will be happy to work with you to evaluate and support \n",
      "the Back to the Moon bill. For the address and telephone number of the nearest \n",
      "chapter to you, please send E-mail, or check the latest issue of Ad Astra, in \n",
      "a library near you.\n",
      "        Finally, if you have requested, and not received, information about\n",
      "the Back to the Moon bill, please re-send your request. The database for the\n",
      "bill was recently corrupted, and some information was lost. The authors of the \n",
      "bill thank you for your patience.\n",
      "\n",
      "\n",
      "--- Maximus 2.01wb\n",
      "\n"
     ]
    }
   ],
   "source": [
    "print(train.data[10])"
   ]
  },
  {
   "cell_type": "code",
   "execution_count": 0,
   "metadata": {
    "colab": {
     "base_uri": "https://localhost:8080/",
     "height": 292
    },
    "colab_type": "code",
    "id": "kQML1w1IYOc7",
    "outputId": "8ed6781d-48f2-483b-d25f-1024a760b40f"
   },
   "outputs": [
    {
     "name": "stdout",
     "output_type": "stream",
     "text": [
      "From: shz@mare.att.com (Keeper of the 'Tude)\n",
      "Subject: Re: Riceburner Respect\n",
      "Organization: Office of 'Tude Licensing\n",
      "Nntp-Posting-Host: binky\n",
      "Lines: 8\n",
      "\n",
      "In article <C5qqxp.IE1@cbmvax.cbm.commodore.com>, hartzler@cbmvax.cbm.commodore.com (Jerry Hartzler - CATS) writes:\n",
      "> >duck. Squids don't wave, or return waves ever, even to each\n",
      ">        ^^^^^^\n",
      ">     excuse me for being an ignoramus, but what are these.\n",
      "\n",
      "edu-breaths with more riceburner than brain...\n",
      "\n",
      "- Roid\n",
      "\n"
     ]
    }
   ],
   "source": [
    "print(train.data[100])"
   ]
  },
  {
   "cell_type": "markdown",
   "metadata": {
    "colab_type": "text",
    "id": "TZ4tsYQuMU9w"
   },
   "source": [
    "In order to use this data for machine learning, we need to be able to convert the content of each string into a vector of numbers. For this we will use the TF-IDF vectorizer (discussed in Feature Engineering), and create a pipeline that attaches it to a multinomial naive Bayes classifier"
   ]
  },
  {
   "cell_type": "code",
   "execution_count": 0,
   "metadata": {
    "colab": {},
    "colab_type": "code",
    "id": "w65Rw7llMVzo"
   },
   "outputs": [],
   "source": [
    "from sklearn.feature_extraction.text import TfidfVectorizer\n",
    "from sklearn.naive_bayes import MultinomialNB\n",
    "from sklearn.pipeline import make_pipeline\n",
    "\n",
    "model = make_pipeline(TfidfVectorizer(), MultinomialNB())"
   ]
  },
  {
   "cell_type": "code",
   "execution_count": 0,
   "metadata": {
    "colab": {},
    "colab_type": "code",
    "id": "FZGhgqToMfHW"
   },
   "outputs": [],
   "source": [
    "model.fit(train.data, train.target)\n",
    "labels = model.predict(test.data)\n"
   ]
  },
  {
   "cell_type": "code",
   "execution_count": 0,
   "metadata": {
    "colab": {
     "base_uri": "https://localhost:8080/",
     "height": 34
    },
    "colab_type": "code",
    "id": "4_MU15ChzkMx",
    "outputId": "1961726a-907c-4206-cec0-b5c1f768760b"
   },
   "outputs": [
    {
     "data": {
      "text/plain": [
       "array([1, 3, 0, ..., 1, 3, 3])"
      ]
     },
     "execution_count": 13,
     "metadata": {
      "tags": []
     },
     "output_type": "execute_result"
    }
   ],
   "source": [
    "labels"
   ]
  },
  {
   "cell_type": "code",
   "execution_count": 0,
   "metadata": {
    "colab": {
     "base_uri": "https://localhost:8080/",
     "height": 223
    },
    "colab_type": "code",
    "id": "eV4FqJB7XTNU",
    "outputId": "ee366ae7-d190-4ffc-b807-e7b911b8a1f3"
   },
   "outputs": [
    {
     "name": "stdout",
     "output_type": "stream",
     "text": [
      "              precision    recall  f1-score   support\n",
      "\n",
      "           0       0.98      0.84      0.90       389\n",
      "           1       0.97      0.97      0.97       398\n",
      "           2       0.98      0.96      0.97       397\n",
      "           3       0.95      0.92      0.93       394\n",
      "           4       0.83      0.98      0.90       398\n",
      "\n",
      "    accuracy                           0.94      1976\n",
      "   macro avg       0.94      0.93      0.94      1976\n",
      "weighted avg       0.94      0.94      0.94      1976\n",
      "\n"
     ]
    }
   ],
   "source": [
    "from sklearn.metrics import classification_report\n",
    "print(classification_report(test.target, labels))"
   ]
  },
  {
   "cell_type": "code",
   "execution_count": 0,
   "metadata": {
    "colab": {
     "base_uri": "https://localhost:8080/",
     "height": 413
    },
    "colab_type": "code",
    "id": "kjcD5ozyMmvw",
    "outputId": "77aab5d3-a54e-41ff-ef7c-083ba2b736cb"
   },
   "outputs": [
    {
     "data": {
      "text/plain": [
       "Text(62.00000000000003, 0.5, 'predicted label')"
      ]
     },
     "execution_count": 15,
     "metadata": {
      "tags": []
     },
     "output_type": "execute_result"
    },
    {
     "data": {
      "image/png": "[encoded data removed]",
      "text/plain": [
       "<Figure size 432x288 with 1 Axes>"
      ]
     },
     "metadata": {
      "tags": []
     },
     "output_type": "display_data"
    }
   ],
   "source": [
    "from sklearn.metrics import confusion_matrix\n",
    "mat = confusion_matrix(test.target, labels)\n",
    "sns.heatmap(mat.T, square=True, annot=True, fmt='d', cbar=False,\n",
    "            xticklabels=train.target_names, yticklabels=train.target_names)\n",
    "plt.xlabel('true label')\n",
    "plt.ylabel('predicted label')"
   ]
  },
  {
   "cell_type": "markdown",
   "metadata": {
    "colab_type": "text",
    "id": "vcgPTi7rMv0S"
   },
   "source": [
    "Evidently, even this very simple classifier can successfully separate space talk from computer talk, but it gets confused between talk about religion and talk about Christianity. This is perhaps an expected area of confusion!\n",
    "\n",
    "The very cool thing here is that we now have the tools to determine the category for any string, using the predict() method of this pipeline. Here's a quick utility function that will return the prediction for a single string."
   ]
  },
  {
   "cell_type": "code",
   "execution_count": 0,
   "metadata": {
    "colab": {},
    "colab_type": "code",
    "id": "46QKHHseMp99"
   },
   "outputs": [],
   "source": [
    "def predict_category(s, train=train, model=model):\n",
    "    pred = model.predict([s])\n",
    "    return train.target_names[pred[0]]"
   ]
  },
  {
   "cell_type": "code",
   "execution_count": 0,
   "metadata": {
    "colab": {
     "base_uri": "https://localhost:8080/",
     "height": 34
    },
    "colab_type": "code",
    "id": "yMW-PoKjMz4v",
    "outputId": "9633105c-b282-4f22-c8b7-6702d65428be"
   },
   "outputs": [
    {
     "data": {
      "text/plain": [
       "'rec.motorcycles'"
      ]
     },
     "execution_count": 17,
     "metadata": {
      "tags": []
     },
     "output_type": "execute_result"
    }
   ],
   "source": [
    "predict_category('Whats the mileage of this bike?')"
   ]
  },
  {
   "cell_type": "code",
   "execution_count": 0,
   "metadata": {
    "colab": {
     "base_uri": "https://localhost:8080/",
     "height": 34
    },
    "colab_type": "code",
    "id": "HcrFi_VEM4fq",
    "outputId": "0b8fcf65-a017-4692-de5f-57a92b126b13"
   },
   "outputs": [
    {
     "data": {
      "text/plain": [
       "'rec.sport.baseball'"
      ]
     },
     "execution_count": 20,
     "metadata": {
      "tags": []
     },
     "output_type": "execute_result"
    }
   ],
   "source": [
    "predict_category('Sachine scored a double hundred')"
   ]
  },
  {
   "cell_type": "code",
   "execution_count": 0,
   "metadata": {
    "colab": {
     "base_uri": "https://localhost:8080/",
     "height": 34
    },
    "colab_type": "code",
    "id": "V4fA0h1gM7ab",
    "outputId": "5999b854-ba75-422e-8015-b0e41c44d23c"
   },
   "outputs": [
    {
     "data": {
      "text/plain": [
       "'soc.religion.christian'"
      ]
     },
     "execution_count": 21,
     "metadata": {
      "tags": []
     },
     "output_type": "execute_result"
    }
   ],
   "source": [
    "predict_category('Evidently, even this very simple classifier can successfully separate space talk from computer talk, but it gets confused between talk about religion and talk about Christianity.')"
   ]
  },
  {
   "cell_type": "markdown",
   "metadata": {
    "colab_type": "text",
    "id": "dIdX0llxFJ47"
   },
   "source": [
    "### Summary\n",
    "\n",
    "\n",
    "**Advantages**\n",
    "\n",
    "1. It is not only a simple approach but also a fast and accurate method for prediction.\n",
    "2. Naive Bayes has very low computation cost.\n",
    "3. It can efficiently work on a large dataset.\n",
    "4. It performs well in case of discrete response variable compared to the continuous variable.\n",
    "5. It can be used with multiple class prediction problems.\n",
    "6. It also performs well in the case of text analytics problems.\n",
    "7. When the assumption of independence holds, a Naive Bayes classifier performs better compared to other models like logistic regression.\n",
    "\n",
    "**Disadvantages**\n",
    "\n",
    "1. The assumption of independent features. In practice, it is almost impossible that model will get a set of predictors which are entirely independent.\n",
    "2. If there is no training tuple of a particular class, this causes zero posterior probability. In this case, the model is unable to make predictions. This problem is known as Zero Probability/Frequency Problem."
   ]
  }
 ],
 "metadata": {
  "colab": {
   "collapsed_sections": [],
   "name": "Python Naive Bayes.ipynb",
   "provenance": []
  },
  "kernelspec": {
   "display_name": "Python 3",
   "language": "python",
   "name": "python3"
  },
  "language_info": {
   "codemirror_mode": {
    "name": "ipython",
    "version": 3
   },
   "file_extension": ".py",
   "mimetype": "text/x-python",
   "name": "python",
   "nbconvert_exporter": "python",
   "pygments_lexer": "ipython3",
   "version": "3.7.3"
  }
 },
 "nbformat": 4,
 "nbformat_minor": 1
}
