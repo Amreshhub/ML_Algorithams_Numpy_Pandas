{
 "cells": [
  {
   "cell_type": "code",
   "execution_count": 2,
   "metadata": {},
   "outputs": [],
   "source": [
    "import numpy as np"
   ]
  },
  {
   "cell_type": "code",
   "execution_count": 2,
   "metadata": {},
   "outputs": [
    {
     "data": {
      "text/plain": [
       "array([[[0., 0., 0.],\n",
       "        [0., 0., 0.],\n",
       "        [0., 0., 0.]],\n",
       "\n",
       "       [[0., 0., 0.],\n",
       "        [0., 0., 0.],\n",
       "        [0., 0., 0.]],\n",
       "\n",
       "       [[0., 0., 0.],\n",
       "        [0., 0., 0.],\n",
       "        [0., 0., 0.]]])"
      ]
     },
     "execution_count": 2,
     "metadata": {},
     "output_type": "execute_result"
    }
   ],
   "source": [
    "a = np.zeros((3,3,3))\n",
    "a"
   ]
  },
  {
   "cell_type": "code",
   "execution_count": 8,
   "metadata": {},
   "outputs": [
    {
     "data": {
      "text/plain": [
       "array([[[1, 1],\n",
       "        [1, 1]],\n",
       "\n",
       "       [[1, 1],\n",
       "        [1, 1]],\n",
       "\n",
       "       [[1, 1],\n",
       "        [1, 1]],\n",
       "\n",
       "       [[1, 1],\n",
       "        [1, 1]],\n",
       "\n",
       "       [[1, 1],\n",
       "        [1, 1]]])"
      ]
     },
     "execution_count": 8,
     "metadata": {},
     "output_type": "execute_result"
    }
   ],
   "source": [
    "np.ones((5,2,2), dtype=int)"
   ]
  },
  {
   "cell_type": "code",
   "execution_count": 16,
   "metadata": {},
   "outputs": [
    {
     "data": {
      "text/plain": [
       "array([['AmreshS', 'AmreshS', 'AmreshS', 'AmreshS'],\n",
       "       ['AmreshS', 'AmreshS', 'AmreshS', 'AmreshS'],\n",
       "       ['AmreshS', 'AmreshS', 'AmreshS', 'AmreshS'],\n",
       "       ['AmreshS', 'AmreshS', 'AmreshS', 'AmreshS']], dtype='<U7')"
      ]
     },
     "execution_count": 16,
     "metadata": {},
     "output_type": "execute_result"
    }
   ],
   "source": [
    "np.full((4,4),\"AmreshSingh\", dtype='<U7')"
   ]
  },
  {
   "cell_type": "code",
   "execution_count": 17,
   "metadata": {},
   "outputs": [
    {
     "data": {
      "text/plain": [
       "array([0.20424407, 0.99743183, 0.60337882, 0.25472211, 0.86682747,\n",
       "       0.77949328, 0.80595603, 0.3244061 , 0.22215989, 0.77957013])"
      ]
     },
     "execution_count": 17,
     "metadata": {},
     "output_type": "execute_result"
    }
   ],
   "source": [
    "np.random.rand(10)"
   ]
  },
  {
   "cell_type": "markdown",
   "metadata": {},
   "source": [
    "Access of NumPy"
   ]
  },
  {
   "cell_type": "code",
   "execution_count": 24,
   "metadata": {},
   "outputs": [
    {
     "data": {
      "text/plain": [
       "array([[6, 8, 5, 7, 6, 8, 8, 7, 5, 6],\n",
       "       [8, 7, 7, 9, 5, 7, 6, 8, 6, 6],\n",
       "       [8, 8, 7, 6, 6, 6, 9, 6, 7, 7],\n",
       "       [6, 8, 8, 9, 7, 6, 8, 7, 7, 8],\n",
       "       [8, 7, 9, 9, 6, 7, 5, 8, 6, 7],\n",
       "       [7, 5, 7, 8, 8, 7, 8, 9, 7, 5],\n",
       "       [8, 8, 8, 6, 5, 9, 8, 6, 5, 8],\n",
       "       [9, 8, 9, 8, 5, 9, 8, 7, 9, 8],\n",
       "       [9, 5, 6, 5, 9, 6, 6, 6, 6, 6],\n",
       "       [7, 5, 7, 7, 8, 6, 9, 9, 5, 7]])"
      ]
     },
     "execution_count": 24,
     "metadata": {},
     "output_type": "execute_result"
    }
   ],
   "source": [
    "data = np.random.randint(5,10,(10,10))\n",
    "data"
   ]
  },
  {
   "cell_type": "code",
   "execution_count": 31,
   "metadata": {},
   "outputs": [
    {
     "name": "stdout",
     "output_type": "stream",
     "text": [
      "[[9 5 5 6 7 9 6 8 7 5]\n",
      " [5 7 6 9 7 5 6 8 8 5]\n",
      " [5 9 9 9 5 9 9 8 5 6]\n",
      " [9 9 5 7 9 8 7 6 7 8]]\n"
     ]
    }
   ],
   "source": [
    "print(data[4:8])\n",
    "#print(data[2:9])\n",
    "#print(data[1:2])"
   ]
  },
  {
   "cell_type": "code",
   "execution_count": 32,
   "metadata": {},
   "outputs": [
    {
     "data": {
      "text/plain": [
       "array([[7, 9],\n",
       "       [7, 5],\n",
       "       [5, 9],\n",
       "       [9, 8]])"
      ]
     },
     "execution_count": 32,
     "metadata": {},
     "output_type": "execute_result"
    }
   ],
   "source": [
    "data[4:8,4:6]"
   ]
  },
  {
   "cell_type": "markdown",
   "metadata": {},
   "source": [
    "Combine Data"
   ]
  },
  {
   "cell_type": "code",
   "execution_count": 9,
   "metadata": {},
   "outputs": [
    {
     "data": {
      "text/plain": [
       "array([[ 8, 12,  6],\n",
       "       [12, 10,  5],\n",
       "       [12,  5, 11],\n",
       "       [13, 10, 14],\n",
       "       [10, 13,  5]])"
      ]
     },
     "execution_count": 9,
     "metadata": {},
     "output_type": "execute_result"
    }
   ],
   "source": [
    "data1 = np.random.randint(5,15,size=(5,3))\n",
    "data1\n"
   ]
  },
  {
   "cell_type": "code",
   "execution_count": 10,
   "metadata": {},
   "outputs": [
    {
     "data": {
      "text/plain": [
       "array([[ 9, 14, 13],\n",
       "       [13,  6, 10],\n",
       "       [ 5, 11, 14],\n",
       "       [10,  7, 12],\n",
       "       [ 5, 14, 12]])"
      ]
     },
     "execution_count": 10,
     "metadata": {},
     "output_type": "execute_result"
    }
   ],
   "source": [
    "data2 = np.random.randint(5,15,size=(5,3))\n",
    "data2"
   ]
  },
  {
   "cell_type": "code",
   "execution_count": 11,
   "metadata": {},
   "outputs": [
    {
     "data": {
      "text/plain": [
       "array([[ 8, 12,  6,  9, 14, 13],\n",
       "       [12, 10,  5, 13,  6, 10],\n",
       "       [12,  5, 11,  5, 11, 14],\n",
       "       [13, 10, 14, 10,  7, 12],\n",
       "       [10, 13,  5,  5, 14, 12]])"
      ]
     },
     "execution_count": 11,
     "metadata": {},
     "output_type": "execute_result"
    }
   ],
   "source": [
    "np.hstack([data1,data2])\n",
    "\n"
   ]
  },
  {
   "cell_type": "code",
   "execution_count": 12,
   "metadata": {},
   "outputs": [
    {
     "data": {
      "text/plain": [
       "array([[ 8, 12,  6],\n",
       "       [12, 10,  5],\n",
       "       [12,  5, 11],\n",
       "       [13, 10, 14],\n",
       "       [10, 13,  5],\n",
       "       [ 9, 14, 13],\n",
       "       [13,  6, 10],\n",
       "       [ 5, 11, 14],\n",
       "       [10,  7, 12],\n",
       "       [ 5, 14, 12]])"
      ]
     },
     "execution_count": 12,
     "metadata": {},
     "output_type": "execute_result"
    }
   ],
   "source": [
    "np.vstack([data1, data2])"
   ]
  },
  {
   "cell_type": "code",
   "execution_count": 13,
   "metadata": {},
   "outputs": [
    {
     "data": {
      "text/plain": [
       "array([[ 8, 12,  6,  9, 14, 13],\n",
       "       [12, 10,  5, 13,  6, 10],\n",
       "       [12,  5, 11,  5, 11, 14],\n",
       "       [13, 10, 14, 10,  7, 12],\n",
       "       [10, 13,  5,  5, 14, 12]])"
      ]
     },
     "execution_count": 13,
     "metadata": {},
     "output_type": "execute_result"
    }
   ],
   "source": [
    "np.concatenate([data1, data2], axis=1)\n"
   ]
  },
  {
   "cell_type": "code",
   "execution_count": 17,
   "metadata": {},
   "outputs": [
    {
     "data": {
      "text/plain": [
       "array([[[ 9, 13],\n",
       "        [12, 12],\n",
       "        [ 5,  7]],\n",
       "\n",
       "       [[10,  6],\n",
       "        [11, 12],\n",
       "        [13, 14]],\n",
       "\n",
       "       [[11, 11],\n",
       "        [ 8, 13],\n",
       "        [ 9,  5]],\n",
       "\n",
       "       [[10, 11],\n",
       "        [13,  5],\n",
       "        [ 7, 13]],\n",
       "\n",
       "       [[ 8, 12],\n",
       "        [12,  9],\n",
       "        [13,  7]]])"
      ]
     },
     "execution_count": 17,
     "metadata": {},
     "output_type": "execute_result"
    }
   ],
   "source": [
    "data1 = np.random.randint(5,15,size=(5,3,2))\n",
    "data1\n"
   ]
  },
  {
   "cell_type": "code",
   "execution_count": 18,
   "metadata": {},
   "outputs": [
    {
     "data": {
      "text/plain": [
       "array([[[ 6,  6],\n",
       "        [ 9,  8],\n",
       "        [13,  8]],\n",
       "\n",
       "       [[ 8, 12],\n",
       "        [ 6,  9],\n",
       "        [13, 14]],\n",
       "\n",
       "       [[13,  8],\n",
       "        [13,  6],\n",
       "        [13, 10]],\n",
       "\n",
       "       [[12, 12],\n",
       "        [10,  5],\n",
       "        [14, 12]],\n",
       "\n",
       "       [[ 9,  5],\n",
       "        [ 8, 11],\n",
       "        [13,  6]]])"
      ]
     },
     "execution_count": 18,
     "metadata": {},
     "output_type": "execute_result"
    }
   ],
   "source": [
    "data2 = np.random.randint(5,15,size=(5,3,2))\n",
    "data2\n"
   ]
  },
  {
   "cell_type": "code",
   "execution_count": 19,
   "metadata": {},
   "outputs": [
    {
     "data": {
      "text/plain": [
       "array([[[ 9, 13,  6,  6],\n",
       "        [12, 12,  9,  8],\n",
       "        [ 5,  7, 13,  8]],\n",
       "\n",
       "       [[10,  6,  8, 12],\n",
       "        [11, 12,  6,  9],\n",
       "        [13, 14, 13, 14]],\n",
       "\n",
       "       [[11, 11, 13,  8],\n",
       "        [ 8, 13, 13,  6],\n",
       "        [ 9,  5, 13, 10]],\n",
       "\n",
       "       [[10, 11, 12, 12],\n",
       "        [13,  5, 10,  5],\n",
       "        [ 7, 13, 14, 12]],\n",
       "\n",
       "       [[ 8, 12,  9,  5],\n",
       "        [12,  9,  8, 11],\n",
       "        [13,  7, 13,  6]]])"
      ]
     },
     "execution_count": 19,
     "metadata": {},
     "output_type": "execute_result"
    }
   ],
   "source": [
    "np.concatenate([data1,data2],axis=2)\n",
    "\n"
   ]
  },
  {
   "cell_type": "markdown",
   "metadata": {},
   "source": [
    "# Splitting Data"
   ]
  },
  {
   "cell_type": "code",
   "execution_count": 27,
   "metadata": {},
   "outputs": [
    {
     "name": "stdout",
     "output_type": "stream",
     "text": [
      "[[6 8 5 7 6 8 8 7 5 6]\n",
      " [8 7 7 9 5 7 6 8 6 6]\n",
      " [8 8 7 6 6 6 9 6 7 7]\n",
      " [6 8 8 9 7 6 8 7 7 8]\n",
      " [8 7 9 9 6 7 5 8 6 7]\n",
      " [7 5 7 8 8 7 8 9 7 5]\n",
      " [8 8 8 6 5 9 8 6 5 8]\n",
      " [9 8 9 8 5 9 8 7 9 8]\n",
      " [9 5 6 5 9 6 6 6 6 6]\n",
      " [7 5 7 7 8 6 9 9 5 7]]\n"
     ]
    }
   ],
   "source": [
    "a1,a2 = np.hsplit(data,[5])\n",
    "print(data)\n"
   ]
  },
  {
   "cell_type": "code",
   "execution_count": 28,
   "metadata": {},
   "outputs": [
    {
     "data": {
      "text/plain": [
       "array([[6, 8, 5, 7, 6],\n",
       "       [8, 7, 7, 9, 5],\n",
       "       [8, 8, 7, 6, 6],\n",
       "       [6, 8, 8, 9, 7],\n",
       "       [8, 7, 9, 9, 6],\n",
       "       [7, 5, 7, 8, 8],\n",
       "       [8, 8, 8, 6, 5],\n",
       "       [9, 8, 9, 8, 5],\n",
       "       [9, 5, 6, 5, 9],\n",
       "       [7, 5, 7, 7, 8]])"
      ]
     },
     "execution_count": 28,
     "metadata": {},
     "output_type": "execute_result"
    }
   ],
   "source": [
    "a1"
   ]
  },
  {
   "cell_type": "code",
   "execution_count": 29,
   "metadata": {},
   "outputs": [
    {
     "data": {
      "text/plain": [
       "array([[8, 8, 7, 5, 6],\n",
       "       [7, 6, 8, 6, 6],\n",
       "       [6, 9, 6, 7, 7],\n",
       "       [6, 8, 7, 7, 8],\n",
       "       [7, 5, 8, 6, 7],\n",
       "       [7, 8, 9, 7, 5],\n",
       "       [9, 8, 6, 5, 8],\n",
       "       [9, 8, 7, 9, 8],\n",
       "       [6, 6, 6, 6, 6],\n",
       "       [6, 9, 9, 5, 7]])"
      ]
     },
     "execution_count": 29,
     "metadata": {},
     "output_type": "execute_result"
    }
   ],
   "source": [
    "a2"
   ]
  },
  {
   "cell_type": "code",
   "execution_count": 30,
   "metadata": {},
   "outputs": [
    {
     "data": {
      "text/plain": [
       "array([[6, 8, 5, 7, 6, 8, 8, 7, 5, 6],\n",
       "       [8, 7, 7, 9, 5, 7, 6, 8, 6, 6],\n",
       "       [8, 8, 7, 6, 6, 6, 9, 6, 7, 7],\n",
       "       [6, 8, 8, 9, 7, 6, 8, 7, 7, 8],\n",
       "       [8, 7, 9, 9, 6, 7, 5, 8, 6, 7],\n",
       "       [7, 5, 7, 8, 8, 7, 8, 9, 7, 5],\n",
       "       [8, 8, 8, 6, 5, 9, 8, 6, 5, 8],\n",
       "       [9, 8, 9, 8, 5, 9, 8, 7, 9, 8],\n",
       "       [9, 5, 6, 5, 9, 6, 6, 6, 6, 6],\n",
       "       [7, 5, 7, 7, 8, 6, 9, 9, 5, 7]])"
      ]
     },
     "execution_count": 30,
     "metadata": {},
     "output_type": "execute_result"
    }
   ],
   "source": [
    "data"
   ]
  },
  {
   "cell_type": "code",
   "execution_count": 31,
   "metadata": {},
   "outputs": [],
   "source": [
    "b1,b2,b3 = np.vsplit(data,[5,7])\n"
   ]
  },
  {
   "cell_type": "code",
   "execution_count": 32,
   "metadata": {},
   "outputs": [
    {
     "data": {
      "text/plain": [
       "array([[6, 8, 5, 7, 6, 8, 8, 7, 5, 6],\n",
       "       [8, 7, 7, 9, 5, 7, 6, 8, 6, 6],\n",
       "       [8, 8, 7, 6, 6, 6, 9, 6, 7, 7],\n",
       "       [6, 8, 8, 9, 7, 6, 8, 7, 7, 8],\n",
       "       [8, 7, 9, 9, 6, 7, 5, 8, 6, 7]])"
      ]
     },
     "execution_count": 32,
     "metadata": {},
     "output_type": "execute_result"
    }
   ],
   "source": [
    "b1"
   ]
  },
  {
   "cell_type": "code",
   "execution_count": 33,
   "metadata": {},
   "outputs": [
    {
     "data": {
      "text/plain": [
       "array([[7, 5, 7, 8, 8, 7, 8, 9, 7, 5],\n",
       "       [8, 8, 8, 6, 5, 9, 8, 6, 5, 8]])"
      ]
     },
     "execution_count": 33,
     "metadata": {},
     "output_type": "execute_result"
    }
   ],
   "source": [
    "b2"
   ]
  },
  {
   "cell_type": "code",
   "execution_count": 34,
   "metadata": {},
   "outputs": [
    {
     "data": {
      "text/plain": [
       "array([[9, 8, 9, 8, 5, 9, 8, 7, 9, 8],\n",
       "       [9, 5, 6, 5, 9, 6, 6, 6, 6, 6],\n",
       "       [7, 5, 7, 7, 8, 6, 9, 9, 5, 7]])"
      ]
     },
     "execution_count": 34,
     "metadata": {},
     "output_type": "execute_result"
    }
   ],
   "source": [
    "b3"
   ]
  },
  {
   "cell_type": "markdown",
   "metadata": {},
   "source": [
    "Shape, Dimension"
   ]
  },
  {
   "cell_type": "code",
   "execution_count": 35,
   "metadata": {},
   "outputs": [
    {
     "data": {
      "text/plain": [
       "(10, 10)"
      ]
     },
     "execution_count": 35,
     "metadata": {},
     "output_type": "execute_result"
    }
   ],
   "source": [
    "data.shape"
   ]
  },
  {
   "cell_type": "code",
   "execution_count": 36,
   "metadata": {},
   "outputs": [
    {
     "data": {
      "text/plain": [
       "2"
      ]
     },
     "execution_count": 36,
     "metadata": {},
     "output_type": "execute_result"
    }
   ],
   "source": [
    "data.ndim"
   ]
  },
  {
   "cell_type": "code",
   "execution_count": 37,
   "metadata": {},
   "outputs": [
    {
     "data": {
      "text/plain": [
       "100"
      ]
     },
     "execution_count": 37,
     "metadata": {},
     "output_type": "execute_result"
    }
   ],
   "source": [
    "data.size"
   ]
  },
  {
   "cell_type": "code",
   "execution_count": 38,
   "metadata": {},
   "outputs": [
    {
     "data": {
      "text/plain": [
       "array([[6, 8, 5, 7, 6, 8, 8, 7, 5, 6],\n",
       "       [8, 7, 7, 9, 5, 7, 6, 8, 6, 6],\n",
       "       [8, 8, 7, 6, 6, 6, 9, 6, 7, 7],\n",
       "       [6, 8, 8, 9, 7, 6, 8, 7, 7, 8],\n",
       "       [8, 7, 9, 9, 6, 7, 5, 8, 6, 7],\n",
       "       [7, 5, 7, 8, 8, 7, 8, 9, 7, 5],\n",
       "       [8, 8, 8, 6, 5, 9, 8, 6, 5, 8],\n",
       "       [9, 8, 9, 8, 5, 9, 8, 7, 9, 8],\n",
       "       [9, 5, 6, 5, 9, 6, 6, 6, 6, 6],\n",
       "       [7, 5, 7, 7, 8, 6, 9, 9, 5, 7]])"
      ]
     },
     "execution_count": 38,
     "metadata": {},
     "output_type": "execute_result"
    }
   ],
   "source": [
    "data"
   ]
  },
  {
   "cell_type": "code",
   "execution_count": 41,
   "metadata": {},
   "outputs": [
    {
     "data": {
      "text/plain": [
       "array([[6, 8, 5, 7, 6, 8, 8, 7, 5, 6, 8, 7, 7, 9, 5, 7, 6, 8, 6, 6, 8, 8,\n",
       "        7, 6, 6, 6, 9, 6, 7, 7, 6, 8, 8, 9, 7, 6, 8, 7, 7, 8, 8, 7, 9, 9,\n",
       "        6, 7, 5, 8, 6, 7],\n",
       "       [7, 5, 7, 8, 8, 7, 8, 9, 7, 5, 8, 8, 8, 6, 5, 9, 8, 6, 5, 8, 9, 8,\n",
       "        9, 8, 5, 9, 8, 7, 9, 8, 9, 5, 6, 5, 9, 6, 6, 6, 6, 6, 7, 5, 7, 7,\n",
       "        8, 6, 9, 9, 5, 7]])"
      ]
     },
     "execution_count": 41,
     "metadata": {},
     "output_type": "execute_result"
    }
   ],
   "source": [
    "data.reshape(2,50)\n"
   ]
  },
  {
   "cell_type": "code",
   "execution_count": 43,
   "metadata": {},
   "outputs": [
    {
     "data": {
      "text/plain": [
       "array([1, 2, 3, 4, 5, 6, 7, 9])"
      ]
     },
     "execution_count": 43,
     "metadata": {},
     "output_type": "execute_result"
    }
   ],
   "source": [
    "d = np.array([1,2,3,4,5,6,7,9])\n",
    "\n",
    "d"
   ]
  },
  {
   "cell_type": "code",
   "execution_count": 44,
   "metadata": {},
   "outputs": [
    {
     "data": {
      "text/plain": [
       "1"
      ]
     },
     "execution_count": 44,
     "metadata": {},
     "output_type": "execute_result"
    }
   ],
   "source": [
    "d.ndim"
   ]
  },
  {
   "cell_type": "code",
   "execution_count": 45,
   "metadata": {},
   "outputs": [
    {
     "data": {
      "text/plain": [
       "(8,)"
      ]
     },
     "execution_count": 45,
     "metadata": {},
     "output_type": "execute_result"
    }
   ],
   "source": [
    "d.shape"
   ]
  },
  {
   "cell_type": "code",
   "execution_count": 46,
   "metadata": {},
   "outputs": [
    {
     "data": {
      "text/plain": [
       "8"
      ]
     },
     "execution_count": 46,
     "metadata": {},
     "output_type": "execute_result"
    }
   ],
   "source": [
    "d.size"
   ]
  },
  {
   "cell_type": "code",
   "execution_count": 49,
   "metadata": {},
   "outputs": [
    {
     "data": {
      "text/plain": [
       "array([[1],\n",
       "       [2],\n",
       "       [3],\n",
       "       [4],\n",
       "       [5],\n",
       "       [6],\n",
       "       [7],\n",
       "       [9]])"
      ]
     },
     "execution_count": 49,
     "metadata": {},
     "output_type": "execute_result"
    }
   ],
   "source": [
    "d.reshape(8,1)"
   ]
  },
  {
   "cell_type": "code",
   "execution_count": 50,
   "metadata": {},
   "outputs": [
    {
     "data": {
      "text/plain": [
       "array([[6, 8, 5, 7, 6, 8, 8, 7, 5, 6],\n",
       "       [8, 7, 7, 9, 5, 7, 6, 8, 6, 6],\n",
       "       [8, 8, 7, 6, 6, 6, 9, 6, 7, 7],\n",
       "       [6, 8, 8, 9, 7, 6, 8, 7, 7, 8],\n",
       "       [8, 7, 9, 9, 6, 7, 5, 8, 6, 7],\n",
       "       [7, 5, 7, 8, 8, 7, 8, 9, 7, 5],\n",
       "       [8, 8, 8, 6, 5, 9, 8, 6, 5, 8],\n",
       "       [9, 8, 9, 8, 5, 9, 8, 7, 9, 8],\n",
       "       [9, 5, 6, 5, 9, 6, 6, 6, 6, 6],\n",
       "       [7, 5, 7, 7, 8, 6, 9, 9, 5, 7]])"
      ]
     },
     "execution_count": 50,
     "metadata": {},
     "output_type": "execute_result"
    }
   ],
   "source": [
    "data"
   ]
  },
  {
   "cell_type": "code",
   "execution_count": 54,
   "metadata": {},
   "outputs": [
    {
     "data": {
      "text/plain": [
       "array([[6, 8, 5, 7, 6, 8, 8, 7, 5, 6, 8, 7, 7, 9, 5, 7, 6, 8, 6, 6],\n",
       "       [8, 8, 7, 6, 6, 6, 9, 6, 7, 7, 6, 8, 8, 9, 7, 6, 8, 7, 7, 8],\n",
       "       [8, 7, 9, 9, 6, 7, 5, 8, 6, 7, 7, 5, 7, 8, 8, 7, 8, 9, 7, 5],\n",
       "       [8, 8, 8, 6, 5, 9, 8, 6, 5, 8, 9, 8, 9, 8, 5, 9, 8, 7, 9, 8],\n",
       "       [9, 5, 6, 5, 9, 6, 6, 6, 6, 6, 7, 5, 7, 7, 8, 6, 9, 9, 5, 7]])"
      ]
     },
     "execution_count": 54,
     "metadata": {},
     "output_type": "execute_result"
    }
   ],
   "source": [
    "data.reshape(-1,20)\n"
   ]
  },
  {
   "cell_type": "markdown",
   "metadata": {},
   "source": [
    "Utility Function"
   ]
  },
  {
   "cell_type": "code",
   "execution_count": 55,
   "metadata": {},
   "outputs": [
    {
     "data": {
      "text/plain": [
       "array([[6, 8, 5, 7, 6, 8, 8, 7, 5, 6],\n",
       "       [8, 7, 7, 9, 5, 7, 6, 8, 6, 6],\n",
       "       [8, 8, 7, 6, 6, 6, 9, 6, 7, 7],\n",
       "       [6, 8, 8, 9, 7, 6, 8, 7, 7, 8],\n",
       "       [8, 7, 9, 9, 6, 7, 5, 8, 6, 7],\n",
       "       [7, 5, 7, 8, 8, 7, 8, 9, 7, 5],\n",
       "       [8, 8, 8, 6, 5, 9, 8, 6, 5, 8],\n",
       "       [9, 8, 9, 8, 5, 9, 8, 7, 9, 8],\n",
       "       [9, 5, 6, 5, 9, 6, 6, 6, 6, 6],\n",
       "       [7, 5, 7, 7, 8, 6, 9, 9, 5, 7]])"
      ]
     },
     "execution_count": 55,
     "metadata": {},
     "output_type": "execute_result"
    }
   ],
   "source": [
    "data"
   ]
  },
  {
   "cell_type": "code",
   "execution_count": 56,
   "metadata": {},
   "outputs": [
    {
     "data": {
      "text/plain": [
       "707"
      ]
     },
     "execution_count": 56,
     "metadata": {},
     "output_type": "execute_result"
    }
   ],
   "source": [
    "np.sum(data)"
   ]
  },
  {
   "cell_type": "code",
   "execution_count": 58,
   "metadata": {},
   "outputs": [
    {
     "data": {
      "text/plain": [
       "array([76, 69, 73, 74, 65, 71, 75, 73, 63, 68])"
      ]
     },
     "execution_count": 58,
     "metadata": {},
     "output_type": "execute_result"
    }
   ],
   "source": [
    "np.sum(data,axis=0)"
   ]
  },
  {
   "cell_type": "code",
   "execution_count": 59,
   "metadata": {},
   "outputs": [
    {
     "data": {
      "text/plain": [
       "array([[6, 8, 5, 7, 6, 8, 8, 7, 5, 6],\n",
       "       [8, 7, 7, 9, 5, 7, 6, 8, 6, 6],\n",
       "       [8, 8, 7, 6, 6, 6, 9, 6, 7, 7],\n",
       "       [6, 8, 8, 9, 7, 6, 8, 7, 7, 8],\n",
       "       [8, 7, 9, 9, 6, 7, 5, 8, 6, 7],\n",
       "       [7, 5, 7, 8, 8, 7, 8, 9, 7, 5],\n",
       "       [8, 8, 8, 6, 5, 9, 8, 6, 5, 8],\n",
       "       [9, 8, 9, 8, 5, 9, 8, 7, 9, 8],\n",
       "       [9, 5, 6, 5, 9, 6, 6, 6, 6, 6],\n",
       "       [7, 5, 7, 7, 8, 6, 9, 9, 5, 7]])"
      ]
     },
     "execution_count": 59,
     "metadata": {},
     "output_type": "execute_result"
    }
   ],
   "source": [
    "data"
   ]
  },
  {
   "cell_type": "code",
   "execution_count": 60,
   "metadata": {},
   "outputs": [
    {
     "data": {
      "text/plain": [
       "array([[-0.2794155 ,  0.98935825, -0.95892427,  0.6569866 , -0.2794155 ,\n",
       "         0.98935825,  0.98935825,  0.6569866 , -0.95892427, -0.2794155 ],\n",
       "       [ 0.98935825,  0.6569866 ,  0.6569866 ,  0.41211849, -0.95892427,\n",
       "         0.6569866 , -0.2794155 ,  0.98935825, -0.2794155 , -0.2794155 ],\n",
       "       [ 0.98935825,  0.98935825,  0.6569866 , -0.2794155 , -0.2794155 ,\n",
       "        -0.2794155 ,  0.41211849, -0.2794155 ,  0.6569866 ,  0.6569866 ],\n",
       "       [-0.2794155 ,  0.98935825,  0.98935825,  0.41211849,  0.6569866 ,\n",
       "        -0.2794155 ,  0.98935825,  0.6569866 ,  0.6569866 ,  0.98935825],\n",
       "       [ 0.98935825,  0.6569866 ,  0.41211849,  0.41211849, -0.2794155 ,\n",
       "         0.6569866 , -0.95892427,  0.98935825, -0.2794155 ,  0.6569866 ],\n",
       "       [ 0.6569866 , -0.95892427,  0.6569866 ,  0.98935825,  0.98935825,\n",
       "         0.6569866 ,  0.98935825,  0.41211849,  0.6569866 , -0.95892427],\n",
       "       [ 0.98935825,  0.98935825,  0.98935825, -0.2794155 , -0.95892427,\n",
       "         0.41211849,  0.98935825, -0.2794155 , -0.95892427,  0.98935825],\n",
       "       [ 0.41211849,  0.98935825,  0.41211849,  0.98935825, -0.95892427,\n",
       "         0.41211849,  0.98935825,  0.6569866 ,  0.41211849,  0.98935825],\n",
       "       [ 0.41211849, -0.95892427, -0.2794155 , -0.95892427,  0.41211849,\n",
       "        -0.2794155 , -0.2794155 , -0.2794155 , -0.2794155 , -0.2794155 ],\n",
       "       [ 0.6569866 , -0.95892427,  0.6569866 ,  0.6569866 ,  0.98935825,\n",
       "        -0.2794155 ,  0.41211849,  0.41211849, -0.95892427,  0.6569866 ]])"
      ]
     },
     "execution_count": 60,
     "metadata": {},
     "output_type": "execute_result"
    }
   ],
   "source": [
    "np.sin(data)"
   ]
  },
  {
   "cell_type": "code",
   "execution_count": 61,
   "metadata": {},
   "outputs": [
    {
     "data": {
      "text/plain": [
       "array([[6, 8, 5, 7, 6, 8, 8, 7, 5, 6],\n",
       "       [8, 7, 7, 9, 5, 7, 6, 8, 6, 6],\n",
       "       [8, 8, 7, 6, 6, 6, 9, 6, 7, 7],\n",
       "       [6, 8, 8, 9, 7, 6, 8, 7, 7, 8],\n",
       "       [8, 7, 9, 9, 6, 7, 5, 8, 6, 7],\n",
       "       [7, 5, 7, 8, 8, 7, 8, 9, 7, 5],\n",
       "       [8, 8, 8, 6, 5, 9, 8, 6, 5, 8],\n",
       "       [9, 8, 9, 8, 5, 9, 8, 7, 9, 8],\n",
       "       [9, 5, 6, 5, 9, 6, 6, 6, 6, 6],\n",
       "       [7, 5, 7, 7, 8, 6, 9, 9, 5, 7]])"
      ]
     },
     "execution_count": 61,
     "metadata": {},
     "output_type": "execute_result"
    }
   ],
   "source": [
    "data"
   ]
  },
  {
   "cell_type": "code",
   "execution_count": 62,
   "metadata": {},
   "outputs": [
    {
     "data": {
      "text/plain": [
       "array([[6, 8, 8, 6, 8, 7, 8, 9, 9, 7],\n",
       "       [8, 7, 8, 8, 7, 5, 8, 8, 5, 5],\n",
       "       [5, 7, 7, 8, 9, 7, 8, 9, 6, 7],\n",
       "       [7, 9, 6, 9, 9, 8, 6, 8, 5, 7],\n",
       "       [6, 5, 6, 7, 6, 8, 5, 5, 9, 8],\n",
       "       [8, 7, 6, 6, 7, 7, 9, 9, 6, 6],\n",
       "       [8, 6, 9, 8, 5, 8, 8, 8, 6, 9],\n",
       "       [7, 8, 6, 7, 8, 9, 6, 7, 6, 9],\n",
       "       [5, 6, 7, 7, 6, 7, 5, 9, 6, 5],\n",
       "       [6, 6, 7, 8, 7, 5, 8, 8, 6, 7]])"
      ]
     },
     "execution_count": 62,
     "metadata": {},
     "output_type": "execute_result"
    }
   ],
   "source": [
    "data.T"
   ]
  },
  {
   "cell_type": "code",
   "execution_count": 63,
   "metadata": {},
   "outputs": [
    {
     "data": {
      "text/plain": [
       "array([6.6, 6.9, 7. , 7.4, 7.2, 7.1, 7.1, 8. , 6.4, 7. ])"
      ]
     },
     "execution_count": 63,
     "metadata": {},
     "output_type": "execute_result"
    }
   ],
   "source": [
    "data.mean(axis=1)"
   ]
  },
  {
   "cell_type": "code",
   "execution_count": 64,
   "metadata": {},
   "outputs": [
    {
     "data": {
      "text/plain": [
       "array([1.11355287, 1.13578167, 1.        , 0.91651514, 1.2489996 ,\n",
       "       1.22065556, 1.37477271, 1.18321596, 1.356466  , 1.34164079])"
      ]
     },
     "execution_count": 64,
     "metadata": {},
     "output_type": "execute_result"
    }
   ],
   "source": [
    "data.std(axis=1)"
   ]
  },
  {
   "cell_type": "markdown",
   "metadata": {},
   "source": [
    "# Broadcasting"
   ]
  },
  {
   "cell_type": "code",
   "execution_count": 65,
   "metadata": {},
   "outputs": [],
   "source": [
    "v = np.array([1,2,3,4,5])"
   ]
  },
  {
   "cell_type": "code",
   "execution_count": 66,
   "metadata": {},
   "outputs": [],
   "source": [
    "s=10"
   ]
  },
  {
   "cell_type": "code",
   "execution_count": 67,
   "metadata": {},
   "outputs": [
    {
     "data": {
      "text/plain": [
       "array([11, 12, 13, 14, 15])"
      ]
     },
     "execution_count": 67,
     "metadata": {},
     "output_type": "execute_result"
    }
   ],
   "source": [
    "v+s"
   ]
  },
  {
   "cell_type": "code",
   "execution_count": 68,
   "metadata": {},
   "outputs": [],
   "source": [
    "t =[10,11]"
   ]
  },
  {
   "cell_type": "code",
   "execution_count": 70,
   "metadata": {},
   "outputs": [],
   "source": [
    "#v+t"
   ]
  },
  {
   "cell_type": "code",
   "execution_count": 71,
   "metadata": {},
   "outputs": [],
   "source": [
    "a = np.array([[1],[2],[3],[4],[5]])"
   ]
  },
  {
   "cell_type": "code",
   "execution_count": 72,
   "metadata": {},
   "outputs": [
    {
     "data": {
      "text/plain": [
       "(5, 1)"
      ]
     },
     "execution_count": 72,
     "metadata": {},
     "output_type": "execute_result"
    }
   ],
   "source": [
    "a.shape"
   ]
  },
  {
   "cell_type": "code",
   "execution_count": 74,
   "metadata": {},
   "outputs": [
    {
     "data": {
      "text/plain": [
       "array([1, 2, 3, 4, 5])"
      ]
     },
     "execution_count": 74,
     "metadata": {},
     "output_type": "execute_result"
    }
   ],
   "source": [
    "v"
   ]
  },
  {
   "cell_type": "code",
   "execution_count": 75,
   "metadata": {},
   "outputs": [
    {
     "data": {
      "text/plain": [
       "array([[1],\n",
       "       [2],\n",
       "       [3],\n",
       "       [4],\n",
       "       [5]])"
      ]
     },
     "execution_count": 75,
     "metadata": {},
     "output_type": "execute_result"
    }
   ],
   "source": [
    "a"
   ]
  },
  {
   "cell_type": "code",
   "execution_count": 73,
   "metadata": {},
   "outputs": [
    {
     "data": {
      "text/plain": [
       "array([[ 2,  3,  4,  5,  6],\n",
       "       [ 3,  4,  5,  6,  7],\n",
       "       [ 4,  5,  6,  7,  8],\n",
       "       [ 5,  6,  7,  8,  9],\n",
       "       [ 6,  7,  8,  9, 10]])"
      ]
     },
     "execution_count": 73,
     "metadata": {},
     "output_type": "execute_result"
    }
   ],
   "source": [
    "a+v "
   ]
  },
  {
   "cell_type": "code",
   "execution_count": 76,
   "metadata": {},
   "outputs": [],
   "source": [
    "a = np.random.randint(1,5,size=(10,2))\n",
    "\n"
   ]
  },
  {
   "cell_type": "code",
   "execution_count": 77,
   "metadata": {},
   "outputs": [],
   "source": [
    "b = np.random.randint(1,5,size=(5,2))"
   ]
  },
  {
   "cell_type": "code",
   "execution_count": 78,
   "metadata": {},
   "outputs": [
    {
     "data": {
      "text/plain": [
       "array([[3, 4],\n",
       "       [1, 4],\n",
       "       [3, 3],\n",
       "       [1, 3],\n",
       "       [1, 4],\n",
       "       [3, 1],\n",
       "       [3, 3],\n",
       "       [1, 4],\n",
       "       [4, 1],\n",
       "       [2, 4]])"
      ]
     },
     "execution_count": 78,
     "metadata": {},
     "output_type": "execute_result"
    }
   ],
   "source": [
    "a"
   ]
  },
  {
   "cell_type": "code",
   "execution_count": 79,
   "metadata": {},
   "outputs": [
    {
     "data": {
      "text/plain": [
       "array([[3, 3],\n",
       "       [4, 4],\n",
       "       [3, 2],\n",
       "       [4, 2],\n",
       "       [4, 3]])"
      ]
     },
     "execution_count": 79,
     "metadata": {},
     "output_type": "execute_result"
    }
   ],
   "source": [
    "b"
   ]
  },
  {
   "cell_type": "code",
   "execution_count": 84,
   "metadata": {},
   "outputs": [
    {
     "data": {
      "text/plain": [
       "array([[[3, 4],\n",
       "        [1, 4],\n",
       "        [3, 3],\n",
       "        [1, 3],\n",
       "        [1, 4],\n",
       "        [3, 1],\n",
       "        [3, 3],\n",
       "        [1, 4],\n",
       "        [4, 1],\n",
       "        [2, 4]]])"
      ]
     },
     "execution_count": 84,
     "metadata": {},
     "output_type": "execute_result"
    }
   ],
   "source": [
    "a.reshape(1,10,2)"
   ]
  },
  {
   "cell_type": "code",
   "execution_count": 85,
   "metadata": {},
   "outputs": [
    {
     "data": {
      "text/plain": [
       "array([[[ 0, -1],\n",
       "        [ 2, -1],\n",
       "        [ 0,  0],\n",
       "        [ 2,  0],\n",
       "        [ 2, -1],\n",
       "        [ 0,  2],\n",
       "        [ 0,  0],\n",
       "        [ 2, -1],\n",
       "        [-1,  2],\n",
       "        [ 1, -1]],\n",
       "\n",
       "       [[ 1,  0],\n",
       "        [ 3,  0],\n",
       "        [ 1,  1],\n",
       "        [ 3,  1],\n",
       "        [ 3,  0],\n",
       "        [ 1,  3],\n",
       "        [ 1,  1],\n",
       "        [ 3,  0],\n",
       "        [ 0,  3],\n",
       "        [ 2,  0]],\n",
       "\n",
       "       [[ 0, -2],\n",
       "        [ 2, -2],\n",
       "        [ 0, -1],\n",
       "        [ 2, -1],\n",
       "        [ 2, -2],\n",
       "        [ 0,  1],\n",
       "        [ 0, -1],\n",
       "        [ 2, -2],\n",
       "        [-1,  1],\n",
       "        [ 1, -2]],\n",
       "\n",
       "       [[ 1, -2],\n",
       "        [ 3, -2],\n",
       "        [ 1, -1],\n",
       "        [ 3, -1],\n",
       "        [ 3, -2],\n",
       "        [ 1,  1],\n",
       "        [ 1, -1],\n",
       "        [ 3, -2],\n",
       "        [ 0,  1],\n",
       "        [ 2, -2]],\n",
       "\n",
       "       [[ 1, -1],\n",
       "        [ 3, -1],\n",
       "        [ 1,  0],\n",
       "        [ 3,  0],\n",
       "        [ 3, -1],\n",
       "        [ 1,  2],\n",
       "        [ 1,  0],\n",
       "        [ 3, -1],\n",
       "        [ 0,  2],\n",
       "        [ 2, -1]]])"
      ]
     },
     "execution_count": 85,
     "metadata": {},
     "output_type": "execute_result"
    }
   ],
   "source": [
    "b.reshape(5,1,2)-a.reshape(1,10,2)"
   ]
  },
  {
   "cell_type": "code",
   "execution_count": 86,
   "metadata": {},
   "outputs": [],
   "source": [
    "a = np.random.randint(1,5,size=(10,2))\n",
    "b = np.random.randint(1,5,size=(5,3))"
   ]
  },
  {
   "cell_type": "code",
   "execution_count": 87,
   "metadata": {},
   "outputs": [
    {
     "data": {
      "text/plain": [
       "(10, 2)"
      ]
     },
     "execution_count": 87,
     "metadata": {},
     "output_type": "execute_result"
    }
   ],
   "source": [
    "a.shape"
   ]
  },
  {
   "cell_type": "code",
   "execution_count": 88,
   "metadata": {},
   "outputs": [
    {
     "data": {
      "text/plain": [
       "(5, 3)"
      ]
     },
     "execution_count": 88,
     "metadata": {},
     "output_type": "execute_result"
    }
   ],
   "source": [
    "b.shape"
   ]
  },
  {
   "cell_type": "code",
   "execution_count": 89,
   "metadata": {},
   "outputs": [
    {
     "data": {
      "text/plain": [
       "array([[[[ 0,  1],\n",
       "         [ 0,  1],\n",
       "         [-2, -1]],\n",
       "\n",
       "        [[ 1, -1],\n",
       "         [ 1, -1],\n",
       "         [-1, -3]],\n",
       "\n",
       "        [[ 2,  1],\n",
       "         [ 2,  1],\n",
       "         [ 0, -1]],\n",
       "\n",
       "        [[ 1,  1],\n",
       "         [ 1,  1],\n",
       "         [-1, -1]],\n",
       "\n",
       "        [[-1,  2],\n",
       "         [-1,  2],\n",
       "         [-3,  0]],\n",
       "\n",
       "        [[ 1,  0],\n",
       "         [ 1,  0],\n",
       "         [-1, -2]],\n",
       "\n",
       "        [[ 0, -1],\n",
       "         [ 0, -1],\n",
       "         [-2, -3]],\n",
       "\n",
       "        [[ 2,  2],\n",
       "         [ 2,  2],\n",
       "         [ 0,  0]],\n",
       "\n",
       "        [[-1, -1],\n",
       "         [-1, -1],\n",
       "         [-3, -3]],\n",
       "\n",
       "        [[ 0,  2],\n",
       "         [ 0,  2],\n",
       "         [-2,  0]]],\n",
       "\n",
       "\n",
       "       [[[-1,  0],\n",
       "         [ 1,  2],\n",
       "         [-1,  0]],\n",
       "\n",
       "        [[ 0, -2],\n",
       "         [ 2,  0],\n",
       "         [ 0, -2]],\n",
       "\n",
       "        [[ 1,  0],\n",
       "         [ 3,  2],\n",
       "         [ 1,  0]],\n",
       "\n",
       "        [[ 0,  0],\n",
       "         [ 2,  2],\n",
       "         [ 0,  0]],\n",
       "\n",
       "        [[-2,  1],\n",
       "         [ 0,  3],\n",
       "         [-2,  1]],\n",
       "\n",
       "        [[ 0, -1],\n",
       "         [ 2,  1],\n",
       "         [ 0, -1]],\n",
       "\n",
       "        [[-1, -2],\n",
       "         [ 1,  0],\n",
       "         [-1, -2]],\n",
       "\n",
       "        [[ 1,  1],\n",
       "         [ 3,  3],\n",
       "         [ 1,  1]],\n",
       "\n",
       "        [[-2, -2],\n",
       "         [ 0,  0],\n",
       "         [-2, -2]],\n",
       "\n",
       "        [[-1,  1],\n",
       "         [ 1,  3],\n",
       "         [-1,  1]]],\n",
       "\n",
       "\n",
       "       [[[ 0,  1],\n",
       "         [-2, -1],\n",
       "         [-2, -1]],\n",
       "\n",
       "        [[ 1, -1],\n",
       "         [-1, -3],\n",
       "         [-1, -3]],\n",
       "\n",
       "        [[ 2,  1],\n",
       "         [ 0, -1],\n",
       "         [ 0, -1]],\n",
       "\n",
       "        [[ 1,  1],\n",
       "         [-1, -1],\n",
       "         [-1, -1]],\n",
       "\n",
       "        [[-1,  2],\n",
       "         [-3,  0],\n",
       "         [-3,  0]],\n",
       "\n",
       "        [[ 1,  0],\n",
       "         [-1, -2],\n",
       "         [-1, -2]],\n",
       "\n",
       "        [[ 0, -1],\n",
       "         [-2, -3],\n",
       "         [-2, -3]],\n",
       "\n",
       "        [[ 2,  2],\n",
       "         [ 0,  0],\n",
       "         [ 0,  0]],\n",
       "\n",
       "        [[-1, -1],\n",
       "         [-3, -3],\n",
       "         [-3, -3]],\n",
       "\n",
       "        [[ 0,  2],\n",
       "         [-2,  0],\n",
       "         [-2,  0]]],\n",
       "\n",
       "\n",
       "       [[[ 0,  1],\n",
       "         [ 1,  2],\n",
       "         [ 0,  1]],\n",
       "\n",
       "        [[ 1, -1],\n",
       "         [ 2,  0],\n",
       "         [ 1, -1]],\n",
       "\n",
       "        [[ 2,  1],\n",
       "         [ 3,  2],\n",
       "         [ 2,  1]],\n",
       "\n",
       "        [[ 1,  1],\n",
       "         [ 2,  2],\n",
       "         [ 1,  1]],\n",
       "\n",
       "        [[-1,  2],\n",
       "         [ 0,  3],\n",
       "         [-1,  2]],\n",
       "\n",
       "        [[ 1,  0],\n",
       "         [ 2,  1],\n",
       "         [ 1,  0]],\n",
       "\n",
       "        [[ 0, -1],\n",
       "         [ 1,  0],\n",
       "         [ 0, -1]],\n",
       "\n",
       "        [[ 2,  2],\n",
       "         [ 3,  3],\n",
       "         [ 2,  2]],\n",
       "\n",
       "        [[-1, -1],\n",
       "         [ 0,  0],\n",
       "         [-1, -1]],\n",
       "\n",
       "        [[ 0,  2],\n",
       "         [ 1,  3],\n",
       "         [ 0,  2]]],\n",
       "\n",
       "\n",
       "       [[[ 0,  1],\n",
       "         [-2, -1],\n",
       "         [ 1,  2]],\n",
       "\n",
       "        [[ 1, -1],\n",
       "         [-1, -3],\n",
       "         [ 2,  0]],\n",
       "\n",
       "        [[ 2,  1],\n",
       "         [ 0, -1],\n",
       "         [ 3,  2]],\n",
       "\n",
       "        [[ 1,  1],\n",
       "         [-1, -1],\n",
       "         [ 2,  2]],\n",
       "\n",
       "        [[-1,  2],\n",
       "         [-3,  0],\n",
       "         [ 0,  3]],\n",
       "\n",
       "        [[ 1,  0],\n",
       "         [-1, -2],\n",
       "         [ 2,  1]],\n",
       "\n",
       "        [[ 0, -1],\n",
       "         [-2, -3],\n",
       "         [ 1,  0]],\n",
       "\n",
       "        [[ 2,  2],\n",
       "         [ 0,  0],\n",
       "         [ 3,  3]],\n",
       "\n",
       "        [[-1, -1],\n",
       "         [-3, -3],\n",
       "         [ 0,  0]],\n",
       "\n",
       "        [[ 0,  2],\n",
       "         [-2,  0],\n",
       "         [ 1,  3]]]])"
      ]
     },
     "execution_count": 89,
     "metadata": {},
     "output_type": "execute_result"
    }
   ],
   "source": [
    "a.reshape(1,10,1,2) - b.reshape(5,1,3,1)"
   ]
  },
  {
   "cell_type": "code",
   "execution_count": null,
   "metadata": {},
   "outputs": [],
   "source": []
  }
 ],
 "metadata": {
  "kernelspec": {
   "display_name": "Python 3",
   "language": "python",
   "name": "python3"
  },
  "language_info": {
   "codemirror_mode": {
    "name": "ipython",
    "version": 3
   },
   "file_extension": ".py",
   "mimetype": "text/x-python",
   "name": "python",
   "nbconvert_exporter": "python",
   "pygments_lexer": "ipython3",
   "version": "3.7.3"
  }
 },
 "nbformat": 4,
 "nbformat_minor": 2
}
