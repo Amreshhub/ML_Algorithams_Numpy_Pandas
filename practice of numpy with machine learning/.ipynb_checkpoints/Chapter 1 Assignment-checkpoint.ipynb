{
 "cells": [
  {
   "cell_type": "markdown",
   "metadata": {},
   "source": [
    "1. Create a null array of size 10 but the fifth value which is 1\n"
   ]
  },
  {
   "cell_type": "code",
   "execution_count": 5,
   "metadata": {},
   "outputs": [],
   "source": [
    "import numpy as np"
   ]
  },
  {
   "cell_type": "code",
   "execution_count": 3,
   "metadata": {},
   "outputs": [
    {
     "data": {
      "text/plain": [
       "array([0., 0., 0., 0., 1., 0., 0., 0., 0., 0.])"
      ]
     },
     "execution_count": 3,
     "metadata": {},
     "output_type": "execute_result"
    }
   ],
   "source": [
    "x = np.zeros(10)\n",
    "x[4]=1\n",
    "x"
   ]
  },
  {
   "cell_type": "markdown",
   "metadata": {},
   "source": [
    "Reverse a above created array (first element becomes last)"
   ]
  },
  {
   "cell_type": "code",
   "execution_count": 4,
   "metadata": {},
   "outputs": [
    {
     "data": {
      "text/plain": [
       "array([0., 0., 0., 0., 0., 1., 0., 0., 0., 0.])"
      ]
     },
     "execution_count": 4,
     "metadata": {},
     "output_type": "execute_result"
    }
   ],
   "source": [
    "x[::-1]"
   ]
  },
  {
   "cell_type": "markdown",
   "metadata": {},
   "source": [
    "Create a 3x3 matrix with values ranging from 0 to 8"
   ]
  },
  {
   "cell_type": "code",
   "execution_count": 17,
   "metadata": {},
   "outputs": [
    {
     "data": {
      "text/plain": [
       "array([[7, 1, 2],\n",
       "       [6, 5, 0],\n",
       "       [7, 7, 6]])"
      ]
     },
     "execution_count": 17,
     "metadata": {},
     "output_type": "execute_result"
    }
   ],
   "source": [
    "b = np.random.randint(0,8,(3,3))\n",
    "b"
   ]
  },
  {
   "cell_type": "markdown",
   "metadata": {},
   "source": [
    "Find indices of non-zero elements from [1,2,0,0,4,0]"
   ]
  },
  {
   "cell_type": "code",
   "execution_count": 21,
   "metadata": {},
   "outputs": [
    {
     "name": "stdout",
     "output_type": "stream",
     "text": [
      "1\n",
      "2\n",
      "4\n"
     ]
    },
    {
     "data": {
      "text/plain": [
       "[1, 2, 4]"
      ]
     },
     "execution_count": 21,
     "metadata": {},
     "output_type": "execute_result"
    }
   ],
   "source": [
    "a = [1,2,0,0,4,0]\n",
    "print(a[0])\n",
    "print(a[1])\n",
    "print(a[4])\n",
    "b=[a[0],a[1],a[4]]\n",
    "b"
   ]
  },
  {
   "cell_type": "markdown",
   "metadata": {},
   "source": [
    "Create a 3x3x3 array with random values"
   ]
  },
  {
   "cell_type": "code",
   "execution_count": 27,
   "metadata": {},
   "outputs": [
    {
     "data": {
      "text/plain": [
       "array([[[0.47176838, 0.056159  , 0.19596927],\n",
       "        [0.39121584, 0.21287101, 0.75010011],\n",
       "        [0.38713914, 0.96590699, 0.17937285]],\n",
       "\n",
       "       [[0.62453404, 0.5122502 , 0.1981178 ],\n",
       "        [0.05822726, 0.82856881, 0.89671622],\n",
       "        [0.99424857, 0.98581611, 0.94294064]],\n",
       "\n",
       "       [[0.43560282, 0.9900378 , 0.60836348],\n",
       "        [0.0334995 , 0.39199655, 0.91636001],\n",
       "        [0.72940432, 0.66676842, 0.93794245]]])"
      ]
     },
     "execution_count": 27,
     "metadata": {},
     "output_type": "execute_result"
    }
   ],
   "source": [
    "d = np.random.random((3,3,3))\n",
    "d"
   ]
  },
  {
   "cell_type": "markdown",
   "metadata": {},
   "source": [
    "Create a 10x10 array with random values and find the minimum and maximum values"
   ]
  },
  {
   "cell_type": "code",
   "execution_count": 39,
   "metadata": {},
   "outputs": [
    {
     "name": "stdout",
     "output_type": "stream",
     "text": [
      "[[4.17022005e-01 7.20324493e-01 1.14374817e-04 3.02332573e-01\n",
      "  1.46755891e-01 9.23385948e-02 1.86260211e-01 3.45560727e-01\n",
      "  3.96767474e-01 5.38816734e-01]\n",
      " [4.19194514e-01 6.85219500e-01 2.04452250e-01 8.78117436e-01\n",
      "  2.73875932e-02 6.70467510e-01 4.17304802e-01 5.58689828e-01\n",
      "  1.40386939e-01 1.98101489e-01]\n",
      " [8.00744569e-01 9.68261576e-01 3.13424178e-01 6.92322616e-01\n",
      "  8.76389152e-01 8.94606664e-01 8.50442114e-02 3.90547832e-02\n",
      "  1.69830420e-01 8.78142503e-01]\n",
      " [9.83468338e-02 4.21107625e-01 9.57889530e-01 5.33165285e-01\n",
      "  6.91877114e-01 3.15515631e-01 6.86500928e-01 8.34625672e-01\n",
      "  1.82882773e-02 7.50144315e-01]\n",
      " [9.88861089e-01 7.48165654e-01 2.80443992e-01 7.89279328e-01\n",
      "  1.03226007e-01 4.47893526e-01 9.08595503e-01 2.93614148e-01\n",
      "  2.87775339e-01 1.30028572e-01]\n",
      " [1.93669579e-02 6.78835533e-01 2.11628116e-01 2.65546659e-01\n",
      "  4.91573159e-01 5.33625451e-02 5.74117605e-01 1.46728575e-01\n",
      "  5.89305537e-01 6.99758360e-01]\n",
      " [1.02334429e-01 4.14055988e-01 6.94400158e-01 4.14179270e-01\n",
      "  4.99534589e-02 5.35896406e-01 6.63794645e-01 5.14889112e-01\n",
      "  9.44594756e-01 5.86555041e-01]\n",
      " [9.03401915e-01 1.37474704e-01 1.39276347e-01 8.07391289e-01\n",
      "  3.97676837e-01 1.65354197e-01 9.27508580e-01 3.47765860e-01\n",
      "  7.50812103e-01 7.25997985e-01]\n",
      " [8.83306091e-01 6.23672207e-01 7.50942434e-01 3.48898342e-01\n",
      "  2.69927892e-01 8.95886218e-01 4.28091190e-01 9.64840047e-01\n",
      "  6.63441498e-01 6.21695720e-01]\n",
      " [1.14745973e-01 9.49489259e-01 4.49912133e-01 5.78389614e-01\n",
      "  4.08136803e-01 2.37026980e-01 9.03379521e-01 5.73679487e-01\n",
      "  2.87032703e-03 6.17144914e-01]]\n",
      "max value of e is:- 0.9888610889064947\n",
      "min value of e is:- 0.00011437481734488664\n"
     ]
    }
   ],
   "source": [
    "np.random.seed(1)\n",
    "e = np.random.random((10,10))\n",
    "print(e)\n",
    "e1=e.max()\n",
    "print('max value of e is:-',e1)\n",
    "e2=e.min()\n",
    "print('min value of e is:-',e2)"
   ]
  },
  {
   "cell_type": "markdown",
   "metadata": {},
   "source": [
    "Create a random vector of size 30 and find the mean value"
   ]
  },
  {
   "cell_type": "code",
   "execution_count": 45,
   "metadata": {},
   "outputs": [
    {
     "name": "stdout",
     "output_type": "stream",
     "text": [
      "[0.5488135  0.71518937 0.60276338 0.54488318 0.4236548  0.64589411\n",
      " 0.43758721 0.891773   0.96366276 0.38344152 0.79172504 0.52889492\n",
      " 0.56804456 0.92559664 0.07103606 0.0871293  0.0202184  0.83261985\n",
      " 0.77815675 0.87001215 0.97861834 0.79915856 0.46147936 0.78052918\n",
      " 0.11827443 0.63992102 0.14335329 0.94466892 0.52184832 0.41466194]\n",
      "mean value of V is:- 0.5811203282945502\n"
     ]
    }
   ],
   "source": [
    "np.random.seed(0)\n",
    "v = np.random.random((30))\n",
    "print(v)\n",
    "print('mean value of V is:-',v.mean())"
   ]
  },
  {
   "cell_type": "markdown",
   "metadata": {},
   "source": [
    "Create a 2d array with 1 on the border and 0 inside"
   ]
  },
  {
   "cell_type": "code",
   "execution_count": 47,
   "metadata": {},
   "outputs": [
    {
     "name": "stdout",
     "output_type": "stream",
     "text": [
      "[1, [0]]\n"
     ]
    }
   ],
   "source": [
    "s =[1,[0]]\n",
    "s\n",
    "print(s)"
   ]
  },
  {
   "cell_type": "markdown",
   "metadata": {},
   "source": [
    "Multiply a 5x3 matrix by a 3x2 matrix (real matrix product)"
   ]
  },
  {
   "cell_type": "code",
   "execution_count": 110,
   "metadata": {},
   "outputs": [
    {
     "name": "stdout",
     "output_type": "stream",
     "text": [
      "[[ 8 13  8]\n",
      " [ 6 11  2]\n",
      " [11  8  7]\n",
      " [ 2  1 11]\n",
      " [ 5 10  4]]\n",
      "[[ 0  1  2]\n",
      " [ 3  4  5]\n",
      " [ 6  7  8]\n",
      " [ 9 10 11]\n",
      " [12 13 14]]\n",
      "[[  0  13  16]\n",
      " [ 18  44  10]\n",
      " [ 66  56  56]\n",
      " [ 18  10 121]\n",
      " [ 60 130  56]]\n"
     ]
    }
   ],
   "source": [
    "np.random.seed(2)\n",
    "a=np.random.randint(0,15,(5,3))\n",
    "print(a)\n",
    "a1=np.random.randint(0,6,(3,2))\n",
    "#print(a1)\n",
    "a1 = np.arange(15).reshape((5, 3))\n",
    "print(a1)\n",
    "a2=a*a1\n",
    "#a2=np.dot(a,a1)\n",
    "print(a2)"
   ]
  },
  {
   "cell_type": "markdown",
   "metadata": {},
   "source": [
    "Extract the integer part of a random array"
   ]
  },
  {
   "cell_type": "code",
   "execution_count": 70,
   "metadata": {},
   "outputs": [
    {
     "name": "stdout",
     "output_type": "stream",
     "text": [
      "Random value with floating part:- [0.20174323 0.64040673 0.48306984 0.50523672 0.38689265]\n",
      "value only round int:- [0 0 0 0 0]\n"
     ]
    }
   ],
   "source": [
    "d = np.random.random(5)\n",
    "print('Random value with floating part:-',d)\n",
    "s=d.astype('uint8')\n",
    "print('value only round int:-',s)"
   ]
  },
  {
   "cell_type": "markdown",
   "metadata": {},
   "source": [
    "Create a 5x5 matrix with row values ranging from 0 to 4"
   ]
  },
  {
   "cell_type": "code",
   "execution_count": 72,
   "metadata": {},
   "outputs": [
    {
     "data": {
      "text/plain": [
       "array([[1, 2, 2, 2, 3],\n",
       "       [0, 2, 1, 0, 0],\n",
       "       [1, 1, 2, 1, 1],\n",
       "       [1, 1, 2, 0, 2],\n",
       "       [3, 2, 3, 0, 1]])"
      ]
     },
     "execution_count": 72,
     "metadata": {},
     "output_type": "execute_result"
    }
   ],
   "source": [
    "f = np.random.randint(0,4,(5,5))\n",
    "f"
   ]
  },
  {
   "cell_type": "markdown",
   "metadata": {},
   "source": [
    "Create a random vector of size 10 and sort it"
   ]
  },
  {
   "cell_type": "code",
   "execution_count": 84,
   "metadata": {},
   "outputs": [
    {
     "name": "stdout",
     "output_type": "stream",
     "text": [
      "Before Sorting Data:- [0.97861834 0.79915856 0.46147936 0.78052918 0.11827443 0.63992102\n",
      " 0.14335329 0.94466892 0.52184832 0.41466194]\n",
      "After Sorting Data:- [0.11827443 0.14335329 0.41466194 0.46147936 0.52184832 0.63992102\n",
      " 0.78052918 0.79915856 0.94466892 0.97861834]\n"
     ]
    }
   ],
   "source": [
    "#np.random.seed(0)\n",
    "h =np.random.random((10))\n",
    "print('Before Sorting Data:-',h)\n",
    "h.sort()\n",
    "print('After Sorting Data:-',h)"
   ]
  },
  {
   "cell_type": "markdown",
   "metadata": {},
   "source": [
    "Consider two random array A anb B, check if they are equal"
   ]
  },
  {
   "cell_type": "code",
   "execution_count": 90,
   "metadata": {},
   "outputs": [
    {
     "name": "stdout",
     "output_type": "stream",
     "text": [
      "[0.97645947 0.4686512  0.97676109 0.60484552 0.73926358 0.03918779\n",
      " 0.28280696 0.12019656 0.2961402  0.11872772]\n",
      "[0.31798318 0.41426299 0.0641475  0.69247212 0.56660145 0.26538949\n",
      " 0.52324805 0.09394051 0.5759465  0.9292962 ]\n",
      "False\n"
     ]
    }
   ],
   "source": [
    "A =np.random.random((10))\n",
    "print(A)\n",
    "B =np.random.random((10))\n",
    "print(B)\n",
    "array_equal = np.allclose(A, B)\n",
    "print(array_equal)"
   ]
  },
  {
   "cell_type": "markdown",
   "metadata": {},
   "source": [
    "How to tell if a given 2D array has null columns"
   ]
  },
  {
   "cell_type": "code",
   "execution_count": 103,
   "metadata": {},
   "outputs": [
    {
     "name": "stdout",
     "output_type": "stream",
     "text": [
      "[[ 0 -1  0]]\n"
     ]
    },
    {
     "data": {
      "text/plain": [
       "True"
      ]
     },
     "execution_count": 103,
     "metadata": {},
     "output_type": "execute_result"
    }
   ],
   "source": [
    "s=np.array([[0,-1,0]])\n",
    "\n",
    "print(s)\n",
    "s.any()"
   ]
  },
  {
   "cell_type": "markdown",
   "metadata": {},
   "source": [
    "Considering a four dimensions array, how to get sum over the last two axis at once?"
   ]
  },
  {
   "cell_type": "code",
   "execution_count": 16,
   "metadata": {},
   "outputs": [
    {
     "name": "stdout",
     "output_type": "stream",
     "text": [
      "[[[ 0  1  2  3  4]\n",
      "  [ 5  6  7  8  9]\n",
      "  [10 11 12 13 14]]\n",
      "\n",
      " [[15 16 17 18 19]\n",
      "  [20 21 22 23 24]\n",
      "  [25 26 27 28 29]]]\n",
      "[[15 18 21 24 27]\n",
      " [60 63 66 69 72]]\n"
     ]
    }
   ],
   "source": [
    "a = np.arange(0,30).reshape(2,3,5)\n",
    "print(a)\n",
    "#a1=a.sum(axis=0)\n",
    "#print(a1)\n",
    "a2=a.sum(axis=1)\n",
    "print(a2)"
   ]
  },
  {
   "cell_type": "markdown",
   "metadata": {},
   "source": [
    "Consider an array of dimension (5,5,3), how to mulitply it by an array with dimensions (5,5)?"
   ]
  },
  {
   "cell_type": "code",
   "execution_count": 49,
   "metadata": {},
   "outputs": [
    {
     "name": "stdout",
     "output_type": "stream",
     "text": [
      "(5, 5, 3)\n",
      "(5, 5)\n",
      "(3, 5, 5)\n",
      "[[[0.04803123 0.57330398 0.58556206]\n",
      "  [0.29618472 0.85940152 0.04662019]\n",
      "  [0.6278882  0.64582597 0.99587041]\n",
      "  [0.6610759  0.51558326 0.72743864]\n",
      "  [0.0011339  0.83085582 0.07647663]]\n",
      "\n",
      " [[0.78905951 0.7718345  0.46378995]\n",
      "  [0.62401269 0.00951745 0.85328343]\n",
      "  [0.85067534 0.79894465 0.54934323]\n",
      "  [0.4766556  0.60367914 0.04872849]\n",
      "  [0.13110185 0.92297329 0.45679243]]\n",
      "\n",
      " [[0.20775361 0.13531353 0.50045461]\n",
      "  [0.69298291 0.21748306 0.78117685]\n",
      "  [0.45859381 0.76317041 0.14724109]\n",
      "  [0.43232384 0.18454627 0.67497222]\n",
      "  [0.41517822 0.26811165 0.16828117]]\n",
      "\n",
      " [[0.10008865 0.22541375 0.80203243]\n",
      "  [0.9768139  0.73219496 0.345723  ]\n",
      "  [0.5007631  0.81037165 0.12964997]\n",
      "  [0.94991217 0.37080389 0.53608239]\n",
      "  [0.95407868 0.03402152 0.99024014]]\n",
      "\n",
      " [[0.11884448 0.9613742  0.89870941]\n",
      "  [0.0620607  0.09336823 0.44775176]\n",
      "  [0.55581812 0.10411772 0.22175508]\n",
      "  [0.08327783 0.763584   0.92533724]\n",
      "  [0.2183989  0.54893365 0.49377704]]]\n",
      "[[[1.00244404e+02 1.00363455e+02 1.00275650e+02 1.00911075e+02\n",
      "   1.00049924e+02]\n",
      "  [1.00275896e+02 1.00720476e+02 1.00179902e+02 1.00013641e+02\n",
      "   1.00371956e+02]\n",
      "  [1.00565300e+02 1.00072142e+02 1.00601085e+02 1.00407881e+02\n",
      "   1.00515418e+02]\n",
      "  [1.00237938e+02 1.00089803e+02 1.00169874e+02 1.00516736e+02\n",
      "   1.00018185e+02]\n",
      "  [1.00233863e+02 1.00022676e+02 1.00075878e+02 1.00923182e+02\n",
      "   1.00581567e+02]]\n",
      "\n",
      " [[5.02444038e+01 5.03634547e+01 5.02756498e+01 5.09110749e+01\n",
      "   5.00499241e+01]\n",
      "  [5.02758962e+01 5.07204763e+01 5.01799024e+01 5.00136409e+01\n",
      "   5.03719560e+01]\n",
      "  [5.05652995e+01 5.00721420e+01 5.06010855e+01 5.04078813e+01\n",
      "   5.05154184e+01]\n",
      "  [5.02379379e+01 5.00898026e+01 5.01698739e+01 5.05167358e+01\n",
      "   5.00181852e+01]\n",
      "  [5.02338633e+01 5.00226758e+01 5.00758776e+01 5.09231819e+01\n",
      "   5.05815672e+01]]\n",
      "\n",
      " [[2.44403829e-01 3.63454653e-01 2.75649839e-01 9.11074923e-01\n",
      "   4.99240569e-02]\n",
      "  [2.75896186e-01 7.20476334e-01 1.79902405e-01 1.36409386e-02\n",
      "   3.71955993e-01]\n",
      "  [5.65299525e-01 7.21420200e-02 6.01085470e-01 4.07881284e-01\n",
      "   5.15418405e-01]\n",
      "  [2.37937946e-01 8.98025840e-02 1.69873906e-01 5.16735827e-01\n",
      "   1.81852142e-02]\n",
      "  [2.33863270e-01 2.26758171e-02 7.58775644e-02 9.23181895e-01\n",
      "   5.81567206e-01]]]\n"
     ]
    },
    {
     "ename": "ValueError",
     "evalue": "operands could not be broadcast together with shapes (5,5,3) (3,5,5) ",
     "output_type": "error",
     "traceback": [
      "\u001b[1;31m---------------------------------------------------------------------------\u001b[0m",
      "\u001b[1;31mValueError\u001b[0m                                Traceback (most recent call last)",
      "\u001b[1;32m<ipython-input-49-02a43ebeb61a>\u001b[0m in \u001b[0;36m<module>\u001b[1;34m\u001b[0m\n\u001b[0;32m     11\u001b[0m \u001b[0mprint\u001b[0m\u001b[1;33m(\u001b[0m\u001b[0ma\u001b[0m\u001b[1;33m)\u001b[0m\u001b[1;33m\u001b[0m\u001b[1;33m\u001b[0m\u001b[0m\n\u001b[0;32m     12\u001b[0m \u001b[0mprint\u001b[0m\u001b[1;33m(\u001b[0m\u001b[0mp\u001b[0m\u001b[1;33m)\u001b[0m\u001b[1;33m\u001b[0m\u001b[1;33m\u001b[0m\u001b[0m\n\u001b[1;32m---> 13\u001b[1;33m \u001b[0mmul\u001b[0m\u001b[1;33m=\u001b[0m\u001b[0ma\u001b[0m\u001b[1;33m*\u001b[0m\u001b[0mp\u001b[0m\u001b[1;33m\u001b[0m\u001b[1;33m\u001b[0m\u001b[0m\n\u001b[0m\u001b[0;32m     14\u001b[0m \u001b[0mprint\u001b[0m\u001b[1;33m(\u001b[0m\u001b[0mmul\u001b[0m\u001b[1;33m)\u001b[0m\u001b[1;33m\u001b[0m\u001b[1;33m\u001b[0m\u001b[0m\n",
      "\u001b[1;31mValueError\u001b[0m: operands could not be broadcast together with shapes (5,5,3) (3,5,5) "
     ]
    }
   ],
   "source": [
    "a=np.random.random((5,5,3))\n",
    "print(a.shape)\n",
    "a1 =np.random.random((5,5))\n",
    "print(a1.shape)\n",
    "#Add the row and columan to become both a,a1 same shape(size)\n",
    "y = a1 + (10*5)\n",
    "z = y + (10*5)\n",
    "p = np.array([z,y,a1])\n",
    "print(p.shape)\n",
    "#Now we can multiply both\n",
    "print(a)\n",
    "print(p)\n",
    "mul=a*p\n",
    "print(mul)\n"
   ]
  },
  {
   "cell_type": "code",
   "execution_count": 53,
   "metadata": {},
   "outputs": [
    {
     "name": "stdout",
     "output_type": "stream",
     "text": [
      "(5, 5, 3)\n",
      "(5, 5)\n",
      "[[[2. 2. 2.]\n",
      "  [2. 2. 2.]\n",
      "  [2. 2. 2.]\n",
      "  [2. 2. 2.]\n",
      "  [2. 2. 2.]]\n",
      "\n",
      " [[2. 2. 2.]\n",
      "  [2. 2. 2.]\n",
      "  [2. 2. 2.]\n",
      "  [2. 2. 2.]\n",
      "  [2. 2. 2.]]\n",
      "\n",
      " [[2. 2. 2.]\n",
      "  [2. 2. 2.]\n",
      "  [2. 2. 2.]\n",
      "  [2. 2. 2.]\n",
      "  [2. 2. 2.]]\n",
      "\n",
      " [[2. 2. 2.]\n",
      "  [2. 2. 2.]\n",
      "  [2. 2. 2.]\n",
      "  [2. 2. 2.]\n",
      "  [2. 2. 2.]]\n",
      "\n",
      " [[2. 2. 2.]\n",
      "  [2. 2. 2.]\n",
      "  [2. 2. 2.]\n",
      "  [2. 2. 2.]\n",
      "  [2. 2. 2.]]]\n"
     ]
    }
   ],
   "source": [
    "A = np.ones((5,5,3))\n",
    "B = 2*np.ones((5,5))\n",
    "print(A.shape)\n",
    "print(B.shape)\n",
    "print(A * B[:,:,None])"
   ]
  },
  {
   "cell_type": "markdown",
   "metadata": {},
   "source": [
    "Extract all the contiguous 3x3 blocks from a random 10x10 matrix"
   ]
  },
  {
   "cell_type": "code",
   "execution_count": 67,
   "metadata": {},
   "outputs": [
    {
     "name": "stdout",
     "output_type": "stream",
     "text": [
      "input array\n",
      "[[1. 1. 1. 1. 1. 1. 1. 1. 1. 1.]\n",
      " [1. 1. 1. 1. 1. 1. 1. 1. 1. 1.]\n",
      " [1. 1. 1. 1. 1. 1. 1. 1. 1. 1.]\n",
      " [1. 1. 1. 1. 1. 1. 1. 1. 1. 1.]\n",
      " [1. 1. 1. 1. 1. 1. 1. 1. 1. 1.]\n",
      " [1. 1. 1. 1. 1. 1. 1. 1. 1. 1.]\n",
      " [1. 1. 1. 1. 1. 1. 1. 1. 1. 1.]\n",
      " [1. 1. 1. 1. 1. 1. 1. 1. 1. 1.]\n",
      " [1. 1. 1. 1. 1. 1. 1. 1. 1. 1.]\n",
      " [1. 1. 1. 1. 1. 1. 1. 1. 1. 1.]]\n",
      "[[ 1.  1.  1. -1.]\n",
      " [ 1.  1.  1. -1.]\n",
      " [ 1.  1.  1. -1.]\n",
      " [-1. -1. -1.  1.]]\n"
     ]
    }
   ],
   "source": [
    "Z = np.ones((10,10))\n",
    "k = 3\n",
    "S = np.subtract.reduceat(np.subtract.reduceat(Z, np.arange(0, Z.shape[0], k), axis=0),\n",
    "                                       np.arange(0, Z.shape[1], k), axis=1)\n",
    "print ('input array')\n",
    "print (Z)\n",
    "print(S)"
   ]
  },
  {
   "cell_type": "markdown",
   "metadata": {},
   "source": [
    "Consider a 16x16 array, how to get the block-sum (block size is 4x4)?"
   ]
  },
  {
   "cell_type": "code",
   "execution_count": 69,
   "metadata": {},
   "outputs": [
    {
     "name": "stdout",
     "output_type": "stream",
     "text": [
      "input array\n",
      "[[1. 1. 1. 1. 1. 1. 1. 1. 1. 1. 1. 1. 1. 1. 1. 1.]\n",
      " [1. 1. 1. 1. 1. 1. 1. 1. 1. 1. 1. 1. 1. 1. 1. 1.]\n",
      " [1. 1. 1. 1. 1. 1. 1. 1. 1. 1. 1. 1. 1. 1. 1. 1.]\n",
      " [1. 1. 1. 1. 1. 1. 1. 1. 1. 1. 1. 1. 1. 1. 1. 1.]\n",
      " [1. 1. 1. 1. 1. 1. 1. 1. 1. 1. 1. 1. 1. 1. 1. 1.]\n",
      " [1. 1. 1. 1. 1. 1. 1. 1. 1. 1. 1. 1. 1. 1. 1. 1.]\n",
      " [1. 1. 1. 1. 1. 1. 1. 1. 1. 1. 1. 1. 1. 1. 1. 1.]\n",
      " [1. 1. 1. 1. 1. 1. 1. 1. 1. 1. 1. 1. 1. 1. 1. 1.]\n",
      " [1. 1. 1. 1. 1. 1. 1. 1. 1. 1. 1. 1. 1. 1. 1. 1.]\n",
      " [1. 1. 1. 1. 1. 1. 1. 1. 1. 1. 1. 1. 1. 1. 1. 1.]\n",
      " [1. 1. 1. 1. 1. 1. 1. 1. 1. 1. 1. 1. 1. 1. 1. 1.]\n",
      " [1. 1. 1. 1. 1. 1. 1. 1. 1. 1. 1. 1. 1. 1. 1. 1.]\n",
      " [1. 1. 1. 1. 1. 1. 1. 1. 1. 1. 1. 1. 1. 1. 1. 1.]\n",
      " [1. 1. 1. 1. 1. 1. 1. 1. 1. 1. 1. 1. 1. 1. 1. 1.]\n",
      " [1. 1. 1. 1. 1. 1. 1. 1. 1. 1. 1. 1. 1. 1. 1. 1.]\n",
      " [1. 1. 1. 1. 1. 1. 1. 1. 1. 1. 1. 1. 1. 1. 1. 1.]]\n",
      "[[16. 16. 16. 16.]\n",
      " [16. 16. 16. 16.]\n",
      " [16. 16. 16. 16.]\n",
      " [16. 16. 16. 16.]]\n"
     ]
    }
   ],
   "source": [
    "Z = np.ones((16,16))\n",
    "k = 4\n",
    "\n",
    "S = np.add.reduceat(np.add.reduceat(Z, np.arange(0, Z.shape[0], k), axis=0),\n",
    "                                       np.arange(0, Z.shape[1], k), axis=1)\n",
    "print ('input array')\n",
    "print (Z)\n",
    "print(S)"
   ]
  },
  {
   "cell_type": "code",
   "execution_count": null,
   "metadata": {},
   "outputs": [],
   "source": []
  }
 ],
 "metadata": {
  "kernelspec": {
   "display_name": "Python 3",
   "language": "python",
   "name": "python3"
  },
  "language_info": {
   "codemirror_mode": {
    "name": "ipython",
    "version": 3
   },
   "file_extension": ".py",
   "mimetype": "text/x-python",
   "name": "python",
   "nbconvert_exporter": "python",
   "pygments_lexer": "ipython3",
   "version": "3.7.3"
  }
 },
 "nbformat": 4,
 "nbformat_minor": 2
}
